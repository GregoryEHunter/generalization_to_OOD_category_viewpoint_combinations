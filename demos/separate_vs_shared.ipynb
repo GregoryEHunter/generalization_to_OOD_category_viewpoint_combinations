{
  "nbformat": 4,
  "nbformat_minor": 5,
  "metadata": {
    "kernelspec": {
      "display_name": "diff_rendering_ml",
      "language": "python",
      "name": "diff_rendering_ml"
    },
    "language_info": {
      "codemirror_mode": {
        "name": "ipython",
        "version": 3
      },
      "file_extension": ".py",
      "mimetype": "text/x-python",
      "name": "python",
      "nbconvert_exporter": "python",
      "pygments_lexer": "ipython3",
      "version": "3.8.5"
    },
    "colab": {
      "name": "separate_vs_shared.ipynb",
      "provenance": []
    },
    "accelerator": "GPU"
  },
  "cells": [
    {
      "cell_type": "markdown",
      "metadata": {
        "id": "EMOiIp7qj-m2"
      },
      "source": [
        "Demo - Training Separate vs Shared Networks"
      ],
      "id": "EMOiIp7qj-m2"
    },
    {
      "cell_type": "markdown",
      "metadata": {
        "id": "r0Gjg0FG3Lh8"
      },
      "source": [
        "[![Open In Colab](https://colab.research.google.com/assets/colab-badge.svg)](https://colab.research.google.com/github/Spandan-Madan/generalization_biased_category_pose/blob/main/demos/separate_vs_shared.ipynb)"
      ],
      "id": "r0Gjg0FG3Lh8"
    },
    {
      "cell_type": "code",
      "metadata": {
        "colab": {
          "base_uri": "https://localhost:8080/"
        },
        "id": "CQAmV64ViCpP",
        "outputId": "17696cd0-553c-46bd-a5e2-76cbe592b9c7"
      },
      "source": [
        "!git clone https://github.com/Spandan-Madan/generalization_biased_category_pose.git"
      ],
      "id": "CQAmV64ViCpP",
      "execution_count": 6,
      "outputs": [
        {
          "output_type": "stream",
          "text": [
            "fatal: destination path 'generalization_biased_category_pose' already exists and is not an empty directory.\n"
          ],
          "name": "stdout"
        }
      ]
    },
    {
      "cell_type": "code",
      "metadata": {
        "id": "3TDIbS5ziEyi"
      },
      "source": [
        "import os\n",
        "def create_folder(path):\n",
        "    if not os.path.isdir(path):\n",
        "        os.mkdir(path)\n",
        "\n",
        "create_folder('generalization_biased_category_pose/data')\n",
        "create_folder('generalization_biased_category_pose/data/mnist_rotation_data')"
      ],
      "id": "3TDIbS5ziEyi",
      "execution_count": 7,
      "outputs": []
    },
    {
      "cell_type": "code",
      "metadata": {
        "colab": {
          "base_uri": "https://localhost:8080/"
        },
        "id": "onT_I7Lzijy8",
        "outputId": "b33ec668-8296-42ca-e188-ef12e45433fb"
      },
      "source": [
        "!wget https://www.dropbox.com/s/wdws3b3fjo190sk/self_generated.tar.gz?dl=0 -O generalization_biased_category_pose/data/mnist_rotation_data/self_generated.tar.gz"
      ],
      "id": "onT_I7Lzijy8",
      "execution_count": 8,
      "outputs": [
        {
          "output_type": "stream",
          "text": [
            "--2021-03-03 01:49:56--  https://www.dropbox.com/s/wdws3b3fjo190sk/self_generated.tar.gz?dl=0\n",
            "Resolving www.dropbox.com (www.dropbox.com)... 162.125.1.18, 2620:100:6016:18::a27d:112\n",
            "Connecting to www.dropbox.com (www.dropbox.com)|162.125.1.18|:443... connected.\n",
            "HTTP request sent, awaiting response... 301 Moved Permanently\n",
            "Location: /s/raw/wdws3b3fjo190sk/self_generated.tar.gz [following]\n",
            "--2021-03-03 01:49:57--  https://www.dropbox.com/s/raw/wdws3b3fjo190sk/self_generated.tar.gz\n",
            "Reusing existing connection to www.dropbox.com:443.\n",
            "HTTP request sent, awaiting response... 302 Found\n",
            "Location: https://ucbcbd55ba49c0bdf31877d6d25f.dl.dropboxusercontent.com/cd/0/inline/BJ-1dPwX0TPpXBRLH5HcoaxX-l0kv0EwWsv3ZD7zXsCHvqvOccKplJ_9YkQ9ZpLRtizI7fbDKUlgDwTvJRfjp3WxrzIkcBDl7BrnEuAVLAGwE9uB3vJ37YUlDh5_sdCs2YM/file# [following]\n",
            "--2021-03-03 01:49:57--  https://ucbcbd55ba49c0bdf31877d6d25f.dl.dropboxusercontent.com/cd/0/inline/BJ-1dPwX0TPpXBRLH5HcoaxX-l0kv0EwWsv3ZD7zXsCHvqvOccKplJ_9YkQ9ZpLRtizI7fbDKUlgDwTvJRfjp3WxrzIkcBDl7BrnEuAVLAGwE9uB3vJ37YUlDh5_sdCs2YM/file\n",
            "Resolving ucbcbd55ba49c0bdf31877d6d25f.dl.dropboxusercontent.com (ucbcbd55ba49c0bdf31877d6d25f.dl.dropboxusercontent.com)... 162.125.1.15, 2620:100:601a:15::a27d:70f\n",
            "Connecting to ucbcbd55ba49c0bdf31877d6d25f.dl.dropboxusercontent.com (ucbcbd55ba49c0bdf31877d6d25f.dl.dropboxusercontent.com)|162.125.1.15|:443... connected.\n",
            "HTTP request sent, awaiting response... 302 Found\n",
            "Location: /cd/0/inline2/BJ_kmNe6vSwn7LPeowhX37pAusQuxV5QxjM-i_uef1KDAqMvyFeqEsidlQ6z0ADCcaBFhPMJhXowN7as5rLex9y1e1PQ6rXxqlLL5-72VJKx-rGgDo2_NjiJbaeSELUF_kj1lU6NAQB-vU1cjmgnpeS-hkFLXcDfIER-noB-C02pitmF21xB5cS0ggd3L--L5e6l-5jV0TeQVAd1Tcfx8OMlsNPvrpbwq6HVhXf7eW_6Tbtpuot71FlYMXxvJ9-Qv5-dyjepdx23BbTjDMYi25ikk7rnOdgpOqwDnILsZTlg3MOISYs4R0n8uype90b6IuG-jkiSMef_QWxr6KDpF31q4yuW5zHTxYSPJebI6Bxkdg/file [following]\n",
            "--2021-03-03 01:49:57--  https://ucbcbd55ba49c0bdf31877d6d25f.dl.dropboxusercontent.com/cd/0/inline2/BJ_kmNe6vSwn7LPeowhX37pAusQuxV5QxjM-i_uef1KDAqMvyFeqEsidlQ6z0ADCcaBFhPMJhXowN7as5rLex9y1e1PQ6rXxqlLL5-72VJKx-rGgDo2_NjiJbaeSELUF_kj1lU6NAQB-vU1cjmgnpeS-hkFLXcDfIER-noB-C02pitmF21xB5cS0ggd3L--L5e6l-5jV0TeQVAd1Tcfx8OMlsNPvrpbwq6HVhXf7eW_6Tbtpuot71FlYMXxvJ9-Qv5-dyjepdx23BbTjDMYi25ikk7rnOdgpOqwDnILsZTlg3MOISYs4R0n8uype90b6IuG-jkiSMef_QWxr6KDpF31q4yuW5zHTxYSPJebI6Bxkdg/file\n",
            "Reusing existing connection to ucbcbd55ba49c0bdf31877d6d25f.dl.dropboxusercontent.com:443.\n",
            "HTTP request sent, awaiting response... 200 OK\n",
            "Length: 140119693 (134M) [application/octet-stream]\n",
            "Saving to: ‘generalization_biased_category_pose/data/mnist_rotation_data/self_generated.tar.gz’\n",
            "\n",
            "generalization_bias 100%[===================>] 133.63M  76.2MB/s    in 1.8s    \n",
            "\n",
            "2021-03-03 01:50:00 (76.2 MB/s) - ‘generalization_biased_category_pose/data/mnist_rotation_data/self_generated.tar.gz’ saved [140119693/140119693]\n",
            "\n"
          ],
          "name": "stdout"
        }
      ]
    },
    {
      "cell_type": "code",
      "metadata": {
        "id": "XlMzx_GLjKTw"
      },
      "source": [
        "!cd generalization_biased_category_pose/data/mnist_rotation_data/ && tar -zxf self_generated.tar.gz"
      ],
      "id": "XlMzx_GLjKTw",
      "execution_count": 9,
      "outputs": []
    },
    {
      "cell_type": "code",
      "metadata": {
        "colab": {
          "base_uri": "https://localhost:8080/"
        },
        "id": "hairy-growing",
        "outputId": "1bbc681b-bff8-4012-9e02-1be8c768c604"
      },
      "source": [
        "from __future__ import print_function, division\n",
        "import torch\n",
        "import torch.nn as nn\n",
        "import torch.optim as optim\n",
        "from torch.autograd import Variable\n",
        "import numpy as np\n",
        "import torchvision\n",
        "from torchvision import datasets, models, transforms\n",
        "import matplotlib.pyplot as plt\n",
        "import time\n",
        "import copy\n",
        "import os\n",
        "from PIL import ImageFile\n",
        "import random\n",
        "ImageFile.LOAD_TRUNCATED_IMAGES = True\n",
        "import argparse\n",
        "import pickle\n",
        "import sys\n",
        "sys.path.append('generalization_biased_category_pose/res/')\n",
        "from models.models import get_model\n",
        "from loader.loader import get_loader"
      ],
      "id": "hairy-growing",
      "execution_count": 10,
      "outputs": [
        {
          "output_type": "stream",
          "text": [
            "/content\n",
            "generalization_biased_category_pose/res/loader/multi_attribute_loader.py\n",
            "generalization_biased_category_pose/res/loader\n",
            "generalization_biased_category_pose/res/loader/loader.py\n",
            "generalization_biased_category_pose/res/loader\n"
          ],
          "name": "stdout"
        }
      ]
    },
    {
      "cell_type": "code",
      "metadata": {
        "colab": {
          "base_uri": "https://localhost:8080/",
          "height": 34
        },
        "id": "european-influence",
        "outputId": "8fc8e967-2579-44f7-8e49-a5e5d48f9e84"
      },
      "source": [
        "from tqdm.notebook import tqdm\n",
        "from IPython.display import clear_output\n",
        "import matplotlib.pyplot as plt\n",
        "import seaborn as sns\n",
        "sns.set_context(\"poster\")\n",
        "sns.set_palette(\"Set1\", 8, .75)\n",
        "sns.despine()"
      ],
      "id": "european-influence",
      "execution_count": 11,
      "outputs": [
        {
          "output_type": "display_data",
          "data": {
            "text/plain": [
              "<Figure size 432x288 with 0 Axes>"
            ]
          },
          "metadata": {
            "tags": []
          }
        }
      ]
    },
    {
      "cell_type": "code",
      "metadata": {
        "id": "suspected-fever"
      },
      "source": [
        "DATASET_NAME = 'mnist_rotation_six_by_nine'\n",
        "NUM_EPOCHS = 10\n",
        "BATCH_SIZE = 200\n",
        "ARCH = 'LATE_BRANCHING_COMBINED'\n",
        "\n",
        "image_transform=transforms.Compose([\n",
        "        transforms.ToTensor(),\n",
        "        transforms.Normalize((0.1307,), (0.3081,))\n",
        "    ])\n",
        "\n",
        "\n",
        "GPU = 1"
      ],
      "id": "suspected-fever",
      "execution_count": 47,
      "outputs": []
    },
    {
      "cell_type": "code",
      "metadata": {
        "id": "assigned-possession"
      },
      "source": [
        "curr_dir = os.getcwd()\n",
        "repo_dir = '/'.join(curr_dir.split('/')[:-1])\n",
        "data_dir = \"%s/data/\"%repo_dir"
      ],
      "id": "assigned-possession",
      "execution_count": 13,
      "outputs": []
    },
    {
      "cell_type": "code",
      "metadata": {
        "tags": [],
        "id": "judicial-simpson"
      },
      "source": [
        "if 'ilab' in DATASET_NAME:\n",
        "    NUM_CLASSES = (6,6,6,6)\n",
        "elif 'uiuc' in DATASET_NAME:\n",
        "    NUM_CLASSES = (8,8,8,8)\n",
        "elif 'mnist_rotation' in DATASET_NAME:\n",
        "    NUM_CLASSES = (10,10,10,10)\n",
        "else:\n",
        "    NUM_CLASSES = (5,5,4,5)\n",
        "\n",
        "if 'ilab' in DATASET_NAME:\n",
        "    loader_new = get_loader('multi_attribute_loader_file_list_ilab')\n",
        "elif 'uiuc' in DATASET_NAME:\n",
        "    loader_new = get_loader('multi_attribute_loader_file_list_uiuc')\n",
        "elif 'mnist_rotation' in DATASET_NAME:\n",
        "    loader_new = get_loader('multi_attribute_loader_file_list_mnist_rotation')\n",
        "else:\n",
        "    loader_new = get_loader('multi_attribute_loader_file_list')\n",
        "\n",
        "file_list_root = 'generalization_biased_category_pose/dataset_lists/'\n",
        "att_path = 'generalization_biased_category_pose/dataset_lists/combined_attributes.p'\n",
        "# loader_new = get_loader('multi_attribute_loader_file_list_ilab')"
      ],
      "id": "judicial-simpson",
      "execution_count": 14,
      "outputs": []
    },
    {
      "cell_type": "code",
      "metadata": {
        "id": "blind-classroom"
      },
      "source": [
        "shuffles = {'train':True,'val':True,'test':False}"
      ],
      "id": "blind-classroom",
      "execution_count": 15,
      "outputs": []
    },
    {
      "cell_type": "code",
      "metadata": {
        "id": "UGTQbDPvmn_G"
      },
      "source": [
        "data_dir = 'generalization_biased_category_pose/data/'"
      ],
      "id": "UGTQbDPvmn_G",
      "execution_count": 16,
      "outputs": []
    },
    {
      "cell_type": "code",
      "metadata": {
        "id": "through-competition"
      },
      "source": [
        "################ GET FROM USER CONFIG - TODO #####################\n",
        "file_lists = {}\n",
        "dsets = {}\n",
        "dset_loaders = {}\n",
        "dset_sizes = {}\n",
        "for phase in ['train','val','test']:\n",
        "    file_lists[phase] = \"%s/%s_list_%s.txt\"%(file_list_root,phase,DATASET_NAME)\n",
        "    dsets[phase] = loader_new(file_lists[phase],att_path, image_transform, data_dir)\n",
        "    dset_loaders[phase] = torch.utils.data.DataLoader(dsets[phase], batch_size=BATCH_SIZE, shuffle = shuffles[phase], num_workers=2,drop_last=True)\n",
        "    dset_sizes[phase] = len(dsets[phase])"
      ],
      "id": "through-competition",
      "execution_count": 17,
      "outputs": []
    },
    {
      "cell_type": "code",
      "metadata": {
        "id": "wrong-allowance"
      },
      "source": [
        "multi_losses = [nn.CrossEntropyLoss(),nn.CrossEntropyLoss(),nn.CrossEntropyLoss(),nn.CrossEntropyLoss()]"
      ],
      "id": "wrong-allowance",
      "execution_count": 18,
      "outputs": []
    },
    {
      "cell_type": "code",
      "metadata": {
        "id": "killing-cause"
      },
      "source": [
        "def weight_scheduler(epoch_num, task):\n",
        "    if task == 'shared':\n",
        "        return [0.0,1.0,0.0,1.0]\n",
        "    elif task == 'viewpoint':\n",
        "        return [0.0,1.0,0.0,0.0]\n",
        "    elif task == 'category':\n",
        "        return [0.0,0.0,0.0,1.0]"
      ],
      "id": "killing-cause",
      "execution_count": 19,
      "outputs": []
    },
    {
      "cell_type": "code",
      "metadata": {
        "id": "civil-bleeding"
      },
      "source": [
        "def train_epoch(model, task, optimizer):\n",
        "    model.train()\n",
        "    torch.set_grad_enabled(True)\n",
        "    phase = 'train'\n",
        "    \n",
        "    weights = weight_scheduler(epoch, task)\n",
        "    iters = 0\n",
        "    phase_epoch_corrects = [0,0,0,0]\n",
        "    phase_epoch_loss = 0\n",
        "    \n",
        "    for data in tqdm(dset_loaders[phase]):\n",
        "        inputs, labels_all, paths = data\n",
        "        inputs = Variable(inputs.float().cuda())\n",
        "\n",
        "        optimizer.zero_grad()\n",
        "        model_outs = model(inputs)\n",
        "        calculated_loss = 0\n",
        "        batch_corrects = [0,0,0,0]\n",
        "        \n",
        "        for i in range(4):\n",
        "            labels = labels_all[:,i]\n",
        "            if GPU:\n",
        "                labels = Variable(labels.long().cuda())\n",
        "            loss = multi_losses[i]\n",
        "            outputs = model_outs[i]\n",
        "            calculated_loss += weights[i] * loss(outputs,labels)\n",
        "            _, preds = torch.max(outputs.data, 1)\n",
        "            batch_corrects[i] = torch.sum(preds == labels.data)\n",
        "            phase_epoch_corrects[i] += batch_corrects[i]\n",
        "\n",
        "        \n",
        "        phase_epoch_loss += calculated_loss\n",
        "        calculated_loss.backward()\n",
        "        optimizer.step()\n",
        "        iters += 1\n",
        "    epoch_loss = phase_epoch_loss/dset_sizes[phase]\n",
        "    # print('Train loss:%s'%epoch_loss)\n",
        "    epoch_accs = [float(i)/dset_sizes[phase] for i in phase_epoch_corrects]\n",
        "\n",
        "    if task == 'shared':\n",
        "        epoch_gm = np.sqrt(epoch_accs[1] * epoch_accs[3])\n",
        "    elif task == 'viewpoint':\n",
        "        epoch_gm = epoch_accs[1]\n",
        "    elif task == 'category':\n",
        "        epoch_gm = epoch_accs[3]\n",
        "    \n",
        "    return model, epoch_loss, epoch_gm"
      ],
      "id": "civil-bleeding",
      "execution_count": 27,
      "outputs": []
    },
    {
      "cell_type": "code",
      "metadata": {
        "id": "protecting-majority"
      },
      "source": [
        "def test_epoch(model, best_model, best_test_loss, best_test_gm, task):\n",
        "    model.eval()\n",
        "    torch.set_grad_enabled(False)\n",
        "    phase = 'test'\n",
        "    weights = weight_scheduler(epoch, task)\n",
        "    iters = 0\n",
        "    phase_epoch_corrects = [0,0,0,0]\n",
        "    phase_epoch_loss = 0\n",
        "    \n",
        "    for data in tqdm(dset_loaders[phase]):\n",
        "        inputs, labels_all, paths = data\n",
        "        inputs = Variable(inputs.float().cuda())\n",
        "        model_outs = model(inputs)\n",
        "        calculated_loss = 0\n",
        "        batch_corrects = [0,0,0,0]\n",
        "        \n",
        "        for i in range(4):\n",
        "            labels = labels_all[:,i]\n",
        "            if GPU:\n",
        "                labels = Variable(labels.long().cuda())\n",
        "            loss = multi_losses[i]\n",
        "            outputs = model_outs[i]\n",
        "            calculated_loss += weights[i] * loss(outputs,labels)\n",
        "            _, preds = torch.max(outputs.data, 1)\n",
        "            batch_corrects[i] = torch.sum(preds == labels.data)\n",
        "            phase_epoch_corrects[i] += batch_corrects[i]\n",
        "\n",
        "\n",
        "        phase_epoch_loss += calculated_loss\n",
        "        iters += 1\n",
        "    epoch_loss = phase_epoch_loss/dset_sizes[phase]\n",
        "    # print('Test loss:%s'%epoch_loss)\n",
        "    epoch_accs = [float(i)/dset_sizes[phase] for i in phase_epoch_corrects]\n",
        "    \n",
        "    if task == 'shared':\n",
        "        epoch_gm = np.sqrt(epoch_accs[1] * epoch_accs[3])\n",
        "    elif task == 'viewpoint':\n",
        "        epoch_gm = epoch_accs[1]\n",
        "    elif task == 'category':\n",
        "        epoch_gm = epoch_accs[3]\n",
        "    \n",
        "    if epoch_loss < best_test_loss:\n",
        "        best_model = model\n",
        "        best_test_loss = epoch_loss\n",
        "        best_test_gm = epoch_gm\n",
        "    \n",
        "    return best_model, epoch_loss, epoch_gm, best_test_loss, best_test_gm"
      ],
      "id": "protecting-majority",
      "execution_count": 28,
      "outputs": []
    },
    {
      "cell_type": "markdown",
      "metadata": {
        "id": "TPj0Krwrz4Or"
      },
      "source": [
        "Separate vs Shared Networks"
      ],
      "id": "TPj0Krwrz4Or"
    },
    {
      "cell_type": "code",
      "metadata": {
        "id": "AVgqCD81miDO"
      },
      "source": [
        "models = {} \n",
        "models['shared']= get_model(ARCH,NUM_CLASSES)\n",
        "models['viewpoint']= get_model(ARCH,NUM_CLASSES)\n",
        "models['category']= get_model(ARCH,NUM_CLASSES)\n",
        "\n",
        "models['shared'].cuda();\n",
        "models['viewpoint'].cuda();\n",
        "models['category'].cuda();\n",
        "\n",
        "best_models = {}\n",
        "best_models['shared'] = models['shared']\n",
        "best_models['viewpoint'] = models['viewpoint']\n",
        "best_models['category'] = models['category']\n",
        "\n",
        "best_test_loss = 100\n",
        "best_test_gm = 0\n",
        "\n",
        "all_train_gms = {}\n",
        "all_train_gms['shared'] = [0]\n",
        "all_train_gms['separate'] = [0]\n",
        "\n",
        "all_test_gms = {}\n",
        "all_test_gms['shared'] = [0]\n",
        "all_test_gms['separate'] = [0]\n",
        "\n",
        "optimizers = {}\n",
        "optimizers['shared'] = optim.Adam(models['shared'].parameters(), lr=0.001)\n",
        "optimizers['viewpoint'] = optim.Adam(models['viewpoint'].parameters(), lr=0.001)\n",
        "optimizers['category'] = optim.Adam(models['category'].parameters(), lr=0.001)"
      ],
      "id": "AVgqCD81miDO",
      "execution_count": 46,
      "outputs": []
    },
    {
      "cell_type": "code",
      "metadata": {
        "id": "Fi_v4pE22eDi"
      },
      "source": [
        "\n",
        "for epoch in range(10):\n",
        "    train_gm_shared = 1\n",
        "    test_gm_shared = 1\n",
        "    for TASK in ['viewpoint','category','shared']:\n",
        "        print('Epoch: %s, Task: %s'%(epoch,TASK))\n",
        "        print('---------')\n",
        "        models[TASK], train_loss, train_gm = train_epoch(models[TASK], TASK, optimizers[TASK])\n",
        "        best_models[TASK], test_loss, test_gm, best_test_loss, best_test_gm = test_epoch(models[TASK], best_models[TASK], best_test_loss, best_test_gm, TASK)\n",
        "        if TASK != 'shared':\n",
        "            train_gm_shared = train_gm_shared * train_gm\n",
        "            test_gm_shared = test_gm_shared * test_gm\n",
        "\n",
        "    all_train_gms['separate'].append(np.sqrt(train_gm_shared))\n",
        "    all_test_gms['separate'].append(np.sqrt(test_gm_shared))\n",
        "    all_train_gms['shared'].append(train_gm)\n",
        "    all_test_gms['shared'].append(test_gm)\n",
        "\n",
        "    \n",
        "    clear_output()\n",
        "    print('Epoch: %s'%epoch)\n",
        "    print('---------')\n",
        "    \n",
        "    \n",
        "    plt.plot(all_train_gms['separate'], color = 'blue', marker = 'o')\n",
        "    plt.plot(all_train_gms['shared'], color = 'red', marker = 'o')\n",
        "    plt.legend(['separate', 'shared'])    \n",
        "    plt.title('Train Accuracy')\n",
        "    plt.show()\n",
        "    \n",
        "    plt.plot(all_test_gms['separate'], color = 'blue', marker = 'o')\n",
        "    plt.plot(all_test_gms['shared'], color = 'red', marker = 'o')\n",
        "    plt.legend(['separate', 'shared'])    \n",
        "    plt.title('Test Accuracy')\n",
        "    plt.show()"
      ],
      "id": "Fi_v4pE22eDi",
      "execution_count": null,
      "outputs": []
    }
  ]
}