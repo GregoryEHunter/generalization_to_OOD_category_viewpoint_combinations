{
 "cells": [
  {
   "cell_type": "markdown",
   "id": "d6dc316f",
   "metadata": {
    "id": "r0Gjg0FG3Lh8"
   },
   "source": [
    "[![Open In Colab](https://colab.research.google.com/assets/colab-badge.svg)](https://colab.research.google.com/github/Spandan-Madan/generalization_to_OOD_category_viewpoint_cominations/blob/main/demos/separate_vs_shared.ipynb)"
   ]
  },
  {
   "cell_type": "markdown",
   "id": "b4e6bdfe",
   "metadata": {},
   "source": [
    "# Overview\n",
    "\n",
    "\n",
    "This demo shows the impact of parameter sharing on out-of-distribution generalization. Specifically, we show how the `SHARED` and `SEPARATE` architectures compare.\n",
    "\n",
    "As shown below, the `SHARED` architecture enforces parameter sharing between the two tasks (category prediction and viewpoint prediction), and the same weights are learned for all convolutional layers for both tasks. These are followed by two task specific fully connected layers for prediction. On the other hand, the `SEPARATE` architecture does not enforce any parameter sharing - all layers are learned separately for the two tasks.\n",
    "\n",
    "As described in the paper, our results show that while `SEPARATE` architecture can perform marginally worse on in-distribution combinations, they perform significantly better on out-of-distribution combinations."
   ]
  },
  {
   "cell_type": "markdown",
   "id": "42dc73b4",
   "metadata": {},
   "source": [
    "`SHARED`             |  `SEPARATE`\n",
    ":-------------------------:|:-------------------------:\n",
    "![](../docs/images/Shared.png)  |  ![](../docs/images/Separate.png)"
   ]
  },
  {
   "cell_type": "code",
   "execution_count": 1,
   "id": "metropolitan-programmer",
   "metadata": {
    "colab": {
     "base_uri": "https://localhost:8080/"
    },
    "id": "CQAmV64ViCpP",
    "outputId": "17696cd0-553c-46bd-a5e2-76cbe592b9c7"
   },
   "outputs": [
    {
     "data": {
      "image/png": "[encoded data removed]",
      "text/plain": [
       "<Figure size 1296x432 with 3 Axes>"
      ]
     },
     "metadata": {
      "needs_background": "light"
     },
     "output_type": "display_data"
    }
   ],
   "source": [
    "%matplotlib inline\n",
    "import matplotlib.pyplot as plt\n",
    "fig,ax = plt.subplots(1, 3, figsize=(18,6)) #has a problem without this line\n",
    "\n",
    "\n",
    "import os\n",
    "def create_folder(path):\n",
    "    if not os.path.isdir(path):\n",
    "        os.mkdir(path)"
   ]
  },
  {
   "cell_type": "markdown",
   "id": "38918b8c",
   "metadata": {},
   "source": [
    "If running on google colab, the below code does the following:\n",
    "- clone repo\n",
    "- set up necessary folders\n",
    "- download MNIST Rotation Dataset at appropriate place\n",
    "- unzip MNIST Rotation"
   ]
  },
  {
   "cell_type": "markdown",
   "id": "dd4b4a66",
   "metadata": {},
   "source": [
    "#### If you're not running on colab, please follow download instructions to get the mnist_rotaiton dataset using:\n",
    "\n",
    "```\n",
    "cd utils\n",
    "bash download_mnist_rotation.sh\n",
    "```\n",
    "\n",
    "#### If not using google colab, please proceed below only after downloading the dataset"
   ]
  },
  {
   "cell_type": "code",
   "execution_count": 2,
   "id": "korean-explorer",
   "metadata": {
    "id": "3TDIbS5ziEyi"
   },
   "outputs": [],
   "source": [
    "if 'google.colab' in str(get_ipython()):\n",
    "    print('Cloning code base to colab....')\n",
    "    !git clone https://github.com/Spandan-Madan/generalization_to_OOD_category_viewpoint_cominations.git\n",
    "    !cd generalization_to_OOD_category_viewpoint_cominations/utils && bash download_mnist_rotation.sh\n",
    "    CODE_ROOT = \"generalization_to_OOD_category_viewpoint_cominations/\"\n",
    "else:\n",
    "    CODE_ROOT = '..'"
   ]
  },
  {
   "cell_type": "code",
   "execution_count": 3,
   "id": "introductory-mozambique",
   "metadata": {
    "colab": {
     "base_uri": "https://localhost:8080/"
    },
    "id": "hairy-growing",
    "outputId": "1bbc681b-bff8-4012-9e02-1be8c768c604"
   },
   "outputs": [
    {
     "name": "stdout",
     "output_type": "stream",
     "text": [
      "C:\\Users\\Skyler\\Desktop\\Deep Learning\\final_project\\generalization_to_OOD_category_viewpoint_combinations-main\\demos\n",
      "C:\\Users\\Skyler\\Desktop\\Deep Learning\\final_project\\generalization_to_OOD_category_viewpoint_combinations-main\\demos\\../res\\loader\\loader.py\n",
      "C:\\Users\\Skyler\\Desktop\\Deep Learning\\final_project\\generalization_to_OOD_category_viewpoint_combinations-main\\res\\loader\\category_to_class_number_per_car_synthetic_only_cars_no_police.p\n",
      "{'Fordtest1957_clean': 0, 'Evo_clean': 1, 'Camaro_clean': 2, 'gto67_clean': 3, 'subaru_impreza_wrx_sti_08_clean': 4, 'fiat500blandswap_clean': 5, 'Shelby_clean': 6, 'GolfMK4-Cycles-Jay-Hardy-2011_clean': 7, 'Audi_R8_clean': 8, 'HUMMER_clean': 9, 'Honda_Civic_Type_R_clean': 20, 'Volvo_clean': 10, 'audia6_clean': 11, 'mini_clean': 12, 'porsche_911_clean': 13, 'CVPI2005_clean': 20, 'Porsche993_GT2_clean': 14, 'suzuki_sx4_clean': 15, 'rapide_clean': 16, 'cooper_mini_clean': 17, 'bg': 20}\n",
      "{'car_i0066': 0, 'car_i0070': 1, 'car_i0072': 2, 'car_i0063': 3, 'car_i0079': 4, 'car_i0082': 5}\n"
     ]
    }
   ],
   "source": [
    "from __future__ import print_function, division\n",
    "import torch\n",
    "import torch.nn as nn\n",
    "import torch.optim as optim\n",
    "from torch.autograd import Variable\n",
    "import numpy as np\n",
    "import torchvision\n",
    "from torchvision import datasets, models, transforms\n",
    "import matplotlib.pyplot as plt\n",
    "import time\n",
    "import copy\n",
    "import os\n",
    "from PIL import ImageFile\n",
    "import random\n",
    "ImageFile.LOAD_TRUNCATED_IMAGES = True\n",
    "import argparse\n",
    "import pickle\n",
    "import sys\n",
    "sys.path.append('%s/res/'%CODE_ROOT)\n",
    "from models.models import get_model\n",
    "from loader.loader import get_loader"
   ]
  },
  {
   "cell_type": "code",
   "execution_count": 4,
   "id": "protecting-picture",
   "metadata": {
    "colab": {
     "base_uri": "https://localhost:8080/",
     "height": 34
    },
    "id": "european-influence",
    "outputId": "8fc8e967-2579-44f7-8e49-a5e5d48f9e84"
   },
   "outputs": [
    {
     "data": {
      "text/plain": [
       "<Figure size 432x288 with 0 Axes>"
      ]
     },
     "metadata": {},
     "output_type": "display_data"
    }
   ],
   "source": [
    "from tqdm.notebook import tqdm\n",
    "from IPython.display import clear_output\n",
    "import matplotlib.pyplot as plt\n",
    "import seaborn as sns\n",
    "sns.set_context(\"poster\")\n",
    "sns.set_palette(\"Set1\", 8, .75)\n",
    "sns.despine()\n"
   ]
  },
  {
   "cell_type": "code",
   "execution_count": 5,
   "id": "saved-craps",
   "metadata": {
    "id": "suspected-fever"
   },
   "outputs": [],
   "source": [
    "DATASET_NAME = 'mnist_rotation_six_by_nine'\n",
    "\n",
    "NUM_EPOCHS = 10\n",
    "BATCH_SIZE = 200\n",
    "\n",
    "ARCH = 'LATE_BRANCHING_COMBINED'\n",
    "#ARCH = 'RESNET18'\n",
    "\n",
    "image_transform=transforms.Compose([\n",
    "        transforms.ToTensor(),\n",
    "        transforms.Normalize((0.1307,), (0.3081,))\n",
    "    ])\n",
    "\n",
    "\n",
    "GPU = 1"
   ]
  },
  {
   "cell_type": "code",
   "execution_count": 6,
   "id": "musical-thickness",
   "metadata": {
    "id": "judicial-simpson",
    "tags": []
   },
   "outputs": [],
   "source": [
    "NUM_CLASSES = (10,10,10,10)\n",
    "loader_new = get_loader('multi_attribute_loader_file_list_mnist_rotation')\n",
    "\n",
    "file_list_root = '%s/dataset_lists/mnist_rotation_lists/'%CODE_ROOT\n",
    "att_path = '%s/dataset_lists/combined_attributes.p'%CODE_ROOT"
   ]
  },
  {
   "cell_type": "code",
   "execution_count": 7,
   "id": "unsigned-tuner",
   "metadata": {
    "id": "blind-classroom"
   },
   "outputs": [],
   "source": [
    "shuffles = {'train':True,'val':True,'test':False}"
   ]
  },
  {
   "cell_type": "code",
   "execution_count": 8,
   "id": "checked-assignment",
   "metadata": {
    "id": "UGTQbDPvmn_G"
   },
   "outputs": [],
   "source": [
    "data_dir = '%s/data/'%CODE_ROOT"
   ]
  },
  {
   "cell_type": "code",
   "execution_count": 9,
   "id": "varied-stage",
   "metadata": {
    "id": "through-competition"
   },
   "outputs": [],
   "source": [
    "file_lists = {}\n",
    "dsets = {}\n",
    "dset_loaders = {}\n",
    "dset_sizes = {}\n",
    "for phase in ['train','val','test']:\n",
    "    file_lists[phase] = \"%s/%s_list_%s.txt\"%(file_list_root,phase,DATASET_NAME)\n",
    "    dsets[phase] = loader_new(file_lists[phase],att_path, image_transform, data_dir)\n",
    "    dset_loaders[phase] = torch.utils.data.DataLoader(dsets[phase], batch_size=BATCH_SIZE, shuffle = shuffles[phase], num_workers=2,drop_last=True)\n",
    "    dset_sizes[phase] = len(dsets[phase])"
   ]
  },
  {
   "cell_type": "code",
   "execution_count": 10,
   "id": "racial-praise",
   "metadata": {
    "id": "wrong-allowance"
   },
   "outputs": [],
   "source": [
    "multi_losses = [nn.CrossEntropyLoss(),nn.CrossEntropyLoss(),nn.CrossEntropyLoss(),nn.CrossEntropyLoss()]"
   ]
  },
  {
   "cell_type": "code",
   "execution_count": 11,
   "id": "incoming-press",
   "metadata": {
    "id": "killing-cause"
   },
   "outputs": [],
   "source": [
    "def weight_scheduler(epoch_num, task):\n",
    "    if task == 'shared':\n",
    "        return [0.0,1.0,0.0,1.0]\n",
    "    elif task == 'viewpoint':\n",
    "        return [0.0,1.0,0.0,0.0]\n",
    "    elif task == 'category':\n",
    "        return [0.0,0.0,0.0,1.0]"
   ]
  },
  {
   "cell_type": "code",
   "execution_count": 12,
   "id": "skilled-union",
   "metadata": {
    "id": "civil-bleeding"
   },
   "outputs": [],
   "source": [
    "def train_epoch(model, task, optimizer):\n",
    "    model.train()\n",
    "    torch.set_grad_enabled(True)\n",
    "    phase = 'train'\n",
    "    \n",
    "    weights = weight_scheduler(epoch, task)\n",
    "    iters = 0\n",
    "    phase_epoch_corrects = [0,0,0,0]\n",
    "    phase_epoch_loss = 0\n",
    "    \n",
    "    for data in tqdm(dset_loaders[phase]):\n",
    "        inputs, labels_all, paths = data\n",
    "        #print(inputs.shape)\n",
    "        #print(labels_all.shape) #needs (samples, channels, w, h) [200,3,28,28]\n",
    "        inputs = Variable(inputs.float().cuda())\n",
    "        #print(inputs.shape)\n",
    "        \n",
    "        optimizer.zero_grad()\n",
    "        model_outs = model(inputs)\n",
    "        #print(len(model_outs))\n",
    "        #print(model_outs[0].shape)\n",
    "        calculated_loss = 0\n",
    "        batch_corrects = [0,0,0,0]\n",
    "        \n",
    "        for i in range(4):\n",
    "            labels = labels_all[:,i]\n",
    "            if GPU:\n",
    "                labels = Variable(labels.long().cuda())\n",
    "            loss = multi_losses[i]\n",
    "            outputs = model_outs[i]\n",
    "            calculated_loss += weights[i] * loss(outputs,labels)\n",
    "            _, preds = torch.max(outputs.data, 1)\n",
    "            batch_corrects[i] = torch.sum(preds == labels.data)\n",
    "            phase_epoch_corrects[i] += batch_corrects[i]\n",
    "\n",
    "        \n",
    "        phase_epoch_loss += calculated_loss\n",
    "        calculated_loss.backward()\n",
    "        optimizer.step()\n",
    "        iters += 1\n",
    "    epoch_loss = phase_epoch_loss/dset_sizes[phase]\n",
    "    # print('Train loss:%s'%epoch_loss)\n",
    "    epoch_accs = [float(i)/dset_sizes[phase] for i in phase_epoch_corrects]\n",
    "\n",
    "    if task == 'shared':\n",
    "        epoch_gm = np.sqrt(epoch_accs[1] * epoch_accs[3])\n",
    "    elif task == 'viewpoint':\n",
    "        epoch_gm = epoch_accs[1]\n",
    "    elif task == 'category':\n",
    "        epoch_gm = epoch_accs[3]\n",
    "    \n",
    "    return model, epoch_loss, epoch_gm"
   ]
  },
  {
   "cell_type": "code",
   "execution_count": 13,
   "id": "integrated-binary",
   "metadata": {
    "id": "protecting-majority"
   },
   "outputs": [],
   "source": [
    "def test_epoch(model, best_model, best_test_loss, best_test_gm, task):\n",
    "    model.eval()\n",
    "    torch.set_grad_enabled(False)\n",
    "    phase = 'val'\n",
    "    weights = weight_scheduler(epoch, task)\n",
    "    iters = 0\n",
    "    phase_epoch_corrects = [0,0,0,0]\n",
    "    phase_epoch_loss = 0\n",
    "    \n",
    "    for data in tqdm(dset_loaders[phase]):\n",
    "        inputs, labels_all, paths = data\n",
    "        inputs = Variable(inputs.float().cuda())\n",
    "        model_outs = model(inputs)\n",
    "        calculated_loss = 0\n",
    "        batch_corrects = [0,0,0,0]\n",
    "        \n",
    "        for i in range(4):\n",
    "            labels = labels_all[:,i]\n",
    "            if GPU:\n",
    "                labels = Variable(labels.long().cuda())\n",
    "            loss = multi_losses[i]            \n",
    "            outputs = model_outs[i]\n",
    "            calculated_loss += weights[i] * loss(outputs,labels)\n",
    "            _, preds = torch.max(outputs.data, 1)\n",
    "            batch_corrects[i] = torch.sum(preds == labels.data)\n",
    "            phase_epoch_corrects[i] += batch_corrects[i]\n",
    "\n",
    "\n",
    "        phase_epoch_loss += calculated_loss\n",
    "        iters += 1\n",
    "    epoch_loss = phase_epoch_loss/dset_sizes[phase]\n",
    "    # print('Test loss:%s'%epoch_loss)\n",
    "    epoch_accs = [float(i)/dset_sizes[phase] for i in phase_epoch_corrects]\n",
    "    \n",
    "    if task == 'shared':\n",
    "        epoch_gm = np.sqrt(epoch_accs[1] * epoch_accs[3])\n",
    "    elif task == 'viewpoint':\n",
    "        epoch_gm = epoch_accs[1]\n",
    "    elif task == 'category':\n",
    "        epoch_gm = epoch_accs[3]\n",
    "    \n",
    "    if epoch_loss < best_test_loss:\n",
    "        best_model = model\n",
    "        best_test_loss = epoch_loss\n",
    "        best_test_gm = epoch_gm\n",
    "    \n",
    "    return best_model, epoch_loss, epoch_gm, best_test_loss, best_test_gm"
   ]
  },
  {
   "cell_type": "code",
   "execution_count": 14,
   "id": "selected-tulsa",
   "metadata": {},
   "outputs": [],
   "source": [
    "def unseen_test_epoch(model, task):\n",
    "    model.eval()\n",
    "    torch.set_grad_enabled(False)\n",
    "    phase = 'test'\n",
    "\n",
    "    weights = weight_scheduler(epoch, task)\n",
    "    iters = 0\n",
    "    phase_epoch_corrects = [0,0,0,0]\n",
    "    phase_epoch_loss = 0\n",
    "    \n",
    "    for data in tqdm(dset_loaders[phase]):\n",
    "        inputs, labels_all, paths = data\n",
    "        inputs = Variable(inputs.float().cuda())\n",
    "        model_outs = model(inputs)\n",
    "        calculated_loss = 0\n",
    "        batch_corrects = [0,0,0,0]\n",
    "        \n",
    "        for i in range(4):\n",
    "            labels = labels_all[:,i]\n",
    "            if GPU:\n",
    "                labels = Variable(labels.long().cuda()) #float\n",
    "            loss = multi_losses[i]\n",
    "            outputs = model_outs[i]\n",
    "            calculated_loss += weights[i] * loss(outputs,labels)\n",
    "            _, preds = torch.max(outputs.data, 1)\n",
    "            batch_corrects[i] = torch.sum(preds == labels.data)\n",
    "            phase_epoch_corrects[i] += batch_corrects[i]\n",
    "\n",
    "\n",
    "        phase_epoch_loss += calculated_loss\n",
    "        iters += 1\n",
    "    epoch_loss = phase_epoch_loss/dset_sizes[phase]\n",
    "    epoch_accs = [float(i)/dset_sizes[phase] for i in phase_epoch_corrects]\n",
    "    \n",
    "    if task == 'shared':\n",
    "        epoch_gm = np.sqrt(epoch_accs[1] * epoch_accs[3])\n",
    "    elif task == 'viewpoint':\n",
    "        epoch_gm = epoch_accs[1]\n",
    "    elif task == 'category':\n",
    "        epoch_gm = epoch_accs[3]\n",
    "    \n",
    "    return epoch_loss, epoch_gm"
   ]
  },
  {
   "cell_type": "code",
   "execution_count": 15,
   "id": "f2a71d5b",
   "metadata": {},
   "outputs": [
    {
     "name": "stdout",
     "output_type": "stream",
     "text": [
      "MyModel(\n",
      "  (model_resnet): ResNet(\n",
      "    (conv1): Conv2d(3, 64, kernel_size=(7, 7), stride=(2, 2), padding=(3, 3), bias=False)\n",
      "    (bn1): BatchNorm2d(64, eps=1e-05, momentum=0.1, affine=True, track_running_stats=True)\n",
      "    (relu): ReLU(inplace=True)\n",
      "    (maxpool): MaxPool2d(kernel_size=3, stride=2, padding=1, dilation=1, ceil_mode=False)\n",
      "    (layer1): Sequential(\n",
      "      (0): BasicBlock(\n",
      "        (conv1): Conv2d(64, 64, kernel_size=(3, 3), stride=(1, 1), padding=(1, 1), bias=False)\n",
      "        (bn1): BatchNorm2d(64, eps=1e-05, momentum=0.1, affine=True, track_running_stats=True)\n",
      "        (relu): ReLU(inplace=True)\n",
      "        (conv2): Conv2d(64, 64, kernel_size=(3, 3), stride=(1, 1), padding=(1, 1), bias=False)\n",
      "        (bn2): BatchNorm2d(64, eps=1e-05, momentum=0.1, affine=True, track_running_stats=True)\n",
      "      )\n",
      "      (1): BasicBlock(\n",
      "        (conv1): Conv2d(64, 64, kernel_size=(3, 3), stride=(1, 1), padding=(1, 1), bias=False)\n",
      "        (bn1): BatchNorm2d(64, eps=1e-05, momentum=0.1, affine=True, track_running_stats=True)\n",
      "        (relu): ReLU(inplace=True)\n",
      "        (conv2): Conv2d(64, 64, kernel_size=(3, 3), stride=(1, 1), padding=(1, 1), bias=False)\n",
      "        (bn2): BatchNorm2d(64, eps=1e-05, momentum=0.1, affine=True, track_running_stats=True)\n",
      "      )\n",
      "    )\n",
      "    (layer2): Sequential(\n",
      "      (0): BasicBlock(\n",
      "        (conv1): Conv2d(64, 128, kernel_size=(3, 3), stride=(2, 2), padding=(1, 1), bias=False)\n",
      "        (bn1): BatchNorm2d(128, eps=1e-05, momentum=0.1, affine=True, track_running_stats=True)\n",
      "        (relu): ReLU(inplace=True)\n",
      "        (conv2): Conv2d(128, 128, kernel_size=(3, 3), stride=(1, 1), padding=(1, 1), bias=False)\n",
      "        (bn2): BatchNorm2d(128, eps=1e-05, momentum=0.1, affine=True, track_running_stats=True)\n",
      "        (downsample): Sequential(\n",
      "          (0): Conv2d(64, 128, kernel_size=(1, 1), stride=(2, 2), bias=False)\n",
      "          (1): BatchNorm2d(128, eps=1e-05, momentum=0.1, affine=True, track_running_stats=True)\n",
      "        )\n",
      "      )\n",
      "      (1): BasicBlock(\n",
      "        (conv1): Conv2d(128, 128, kernel_size=(3, 3), stride=(1, 1), padding=(1, 1), bias=False)\n",
      "        (bn1): BatchNorm2d(128, eps=1e-05, momentum=0.1, affine=True, track_running_stats=True)\n",
      "        (relu): ReLU(inplace=True)\n",
      "        (conv2): Conv2d(128, 128, kernel_size=(3, 3), stride=(1, 1), padding=(1, 1), bias=False)\n",
      "        (bn2): BatchNorm2d(128, eps=1e-05, momentum=0.1, affine=True, track_running_stats=True)\n",
      "      )\n",
      "    )\n",
      "    (layer3): Sequential(\n",
      "      (0): BasicBlock(\n",
      "        (conv1): Conv2d(128, 256, kernel_size=(3, 3), stride=(2, 2), padding=(1, 1), bias=False)\n",
      "        (bn1): BatchNorm2d(256, eps=1e-05, momentum=0.1, affine=True, track_running_stats=True)\n",
      "        (relu): ReLU(inplace=True)\n",
      "        (conv2): Conv2d(256, 256, kernel_size=(3, 3), stride=(1, 1), padding=(1, 1), bias=False)\n",
      "        (bn2): BatchNorm2d(256, eps=1e-05, momentum=0.1, affine=True, track_running_stats=True)\n",
      "        (downsample): Sequential(\n",
      "          (0): Conv2d(128, 256, kernel_size=(1, 1), stride=(2, 2), bias=False)\n",
      "          (1): BatchNorm2d(256, eps=1e-05, momentum=0.1, affine=True, track_running_stats=True)\n",
      "        )\n",
      "      )\n",
      "      (1): BasicBlock(\n",
      "        (conv1): Conv2d(256, 256, kernel_size=(3, 3), stride=(1, 1), padding=(1, 1), bias=False)\n",
      "        (bn1): BatchNorm2d(256, eps=1e-05, momentum=0.1, affine=True, track_running_stats=True)\n",
      "        (relu): ReLU(inplace=True)\n",
      "        (conv2): Conv2d(256, 256, kernel_size=(3, 3), stride=(1, 1), padding=(1, 1), bias=False)\n",
      "        (bn2): BatchNorm2d(256, eps=1e-05, momentum=0.1, affine=True, track_running_stats=True)\n",
      "      )\n",
      "    )\n",
      "    (layer4): Sequential(\n",
      "      (0): BasicBlock(\n",
      "        (conv1): Conv2d(256, 512, kernel_size=(3, 3), stride=(2, 2), padding=(1, 1), bias=False)\n",
      "        (bn1): BatchNorm2d(512, eps=1e-05, momentum=0.1, affine=True, track_running_stats=True)\n",
      "        (relu): ReLU(inplace=True)\n",
      "        (conv2): Conv2d(512, 512, kernel_size=(3, 3), stride=(1, 1), padding=(1, 1), bias=False)\n",
      "        (bn2): BatchNorm2d(512, eps=1e-05, momentum=0.1, affine=True, track_running_stats=True)\n",
      "        (downsample): Sequential(\n",
      "          (0): Conv2d(256, 512, kernel_size=(1, 1), stride=(2, 2), bias=False)\n",
      "          (1): BatchNorm2d(512, eps=1e-05, momentum=0.1, affine=True, track_running_stats=True)\n",
      "        )\n",
      "      )\n",
      "      (1): BasicBlock(\n",
      "        (conv1): Conv2d(512, 512, kernel_size=(3, 3), stride=(1, 1), padding=(1, 1), bias=False)\n",
      "        (bn1): BatchNorm2d(512, eps=1e-05, momentum=0.1, affine=True, track_running_stats=True)\n",
      "        (relu): ReLU(inplace=True)\n",
      "        (conv2): Conv2d(512, 512, kernel_size=(3, 3), stride=(1, 1), padding=(1, 1), bias=False)\n",
      "        (bn2): BatchNorm2d(512, eps=1e-05, momentum=0.1, affine=True, track_running_stats=True)\n",
      "      )\n",
      "    )\n",
      "    (avgpool): AdaptiveAvgPool2d(output_size=(1, 1))\n",
      "    (fc): Linear(in_features=512, out_features=1000, bias=True)\n",
      "  )\n",
      "  (fc1): Linear(in_features=1000, out_features=10, bias=True)\n",
      "  (fc2): Linear(in_features=1000, out_features=10, bias=True)\n",
      ")\n"
     ]
    },
    {
     "name": "stderr",
     "output_type": "stream",
     "text": [
      "Using cache found in C:\\Users\\Skyler/.cache\\torch\\hub\\pytorch_vision_v0.10.0\n"
     ]
    }
   ],
   "source": [
    "#Skyler added. modify the resnet to have 4 outputs.\n",
    "import torch\n",
    "import torch.nn as nn\n",
    "from torchvision import datasets, models, transforms\n",
    "\n",
    "\n",
    "class MyModel(nn.Module):\n",
    "    def __init__(self, num_classes1, num_classes2):\n",
    "        super(MyModel, self).__init__()\n",
    "        self.model_resnet = torch.hub.load('pytorch/vision:v0.10.0', 'resnet18', pretrained=True)\n",
    "        num_ftrs = self.model_resnet.fc.in_features\n",
    "        #self.model_resnet.fc = nn.Identity() #not sure this is necessary\n",
    "        self.fc1 = nn.Linear(1000, num_classes1) #1000 outputs default from resnet\n",
    "        self.fc2 = nn.Linear(1000, num_classes2)\n",
    "\n",
    "    def forward(self, x):\n",
    "        x = self.model_resnet(x)\n",
    "        out1 = self.fc1(x)\n",
    "        out2 = self.fc2(x)\n",
    "        return out1, out1, out2, out2\n",
    "    \n",
    "model = MyModel(10,10)\n",
    "print(model)"
   ]
  },
  {
   "cell_type": "markdown",
   "id": "automotive-glossary",
   "metadata": {
    "id": "TPj0Krwrz4Or"
   },
   "source": [
    "Separate vs Shared Networks"
   ]
  },
  {
   "cell_type": "code",
   "execution_count": 16,
   "id": "described-triumph",
   "metadata": {
    "id": "AVgqCD81miDO"
   },
   "outputs": [
    {
     "name": "stdout",
     "output_type": "stream",
     "text": [
      "----------------------------------------------------------------\n",
      "        Layer (type)               Output Shape         Param #\n",
      "================================================================\n",
      "            Conv2d-1           [-1, 64, 14, 14]           9,408\n",
      "       BatchNorm2d-2           [-1, 64, 14, 14]             128\n",
      "              ReLU-3           [-1, 64, 14, 14]               0\n",
      "         MaxPool2d-4             [-1, 64, 7, 7]               0\n",
      "            Conv2d-5             [-1, 64, 7, 7]          36,864\n",
      "       BatchNorm2d-6             [-1, 64, 7, 7]             128\n",
      "              ReLU-7             [-1, 64, 7, 7]               0\n",
      "            Conv2d-8             [-1, 64, 7, 7]          36,864\n",
      "       BatchNorm2d-9             [-1, 64, 7, 7]             128\n",
      "             ReLU-10             [-1, 64, 7, 7]               0\n",
      "       BasicBlock-11             [-1, 64, 7, 7]               0\n",
      "           Conv2d-12             [-1, 64, 7, 7]          36,864\n",
      "      BatchNorm2d-13             [-1, 64, 7, 7]             128\n",
      "             ReLU-14             [-1, 64, 7, 7]               0\n",
      "           Conv2d-15             [-1, 64, 7, 7]          36,864\n",
      "      BatchNorm2d-16             [-1, 64, 7, 7]             128\n",
      "             ReLU-17             [-1, 64, 7, 7]               0\n",
      "       BasicBlock-18             [-1, 64, 7, 7]               0\n",
      "           Conv2d-19            [-1, 128, 4, 4]          73,728\n",
      "      BatchNorm2d-20            [-1, 128, 4, 4]             256\n",
      "             ReLU-21            [-1, 128, 4, 4]               0\n",
      "           Conv2d-22            [-1, 128, 4, 4]         147,456\n",
      "      BatchNorm2d-23            [-1, 128, 4, 4]             256\n",
      "           Conv2d-24            [-1, 128, 4, 4]           8,192\n",
      "      BatchNorm2d-25            [-1, 128, 4, 4]             256\n",
      "             ReLU-26            [-1, 128, 4, 4]               0\n",
      "       BasicBlock-27            [-1, 128, 4, 4]               0\n",
      "           Conv2d-28            [-1, 128, 4, 4]         147,456\n",
      "      BatchNorm2d-29            [-1, 128, 4, 4]             256\n",
      "             ReLU-30            [-1, 128, 4, 4]               0\n",
      "           Conv2d-31            [-1, 128, 4, 4]         147,456\n",
      "      BatchNorm2d-32            [-1, 128, 4, 4]             256\n",
      "             ReLU-33            [-1, 128, 4, 4]               0\n",
      "       BasicBlock-34            [-1, 128, 4, 4]               0\n",
      "           Conv2d-35            [-1, 256, 2, 2]         294,912\n",
      "      BatchNorm2d-36            [-1, 256, 2, 2]             512\n",
      "             ReLU-37            [-1, 256, 2, 2]               0\n",
      "           Conv2d-38            [-1, 256, 2, 2]         589,824\n",
      "      BatchNorm2d-39            [-1, 256, 2, 2]             512\n",
      "           Conv2d-40            [-1, 256, 2, 2]          32,768\n",
      "      BatchNorm2d-41            [-1, 256, 2, 2]             512\n",
      "             ReLU-42            [-1, 256, 2, 2]               0\n",
      "       BasicBlock-43            [-1, 256, 2, 2]               0\n",
      "           Conv2d-44            [-1, 256, 2, 2]         589,824\n",
      "      BatchNorm2d-45            [-1, 256, 2, 2]             512\n",
      "             ReLU-46            [-1, 256, 2, 2]               0\n",
      "           Conv2d-47            [-1, 256, 2, 2]         589,824\n",
      "      BatchNorm2d-48            [-1, 256, 2, 2]             512\n",
      "             ReLU-49            [-1, 256, 2, 2]               0\n",
      "       BasicBlock-50            [-1, 256, 2, 2]               0\n",
      "           Conv2d-51            [-1, 512, 1, 1]       1,179,648\n",
      "      BatchNorm2d-52            [-1, 512, 1, 1]           1,024\n",
      "             ReLU-53            [-1, 512, 1, 1]               0\n",
      "           Conv2d-54            [-1, 512, 1, 1]       2,359,296\n",
      "      BatchNorm2d-55            [-1, 512, 1, 1]           1,024\n",
      "           Conv2d-56            [-1, 512, 1, 1]         131,072\n",
      "      BatchNorm2d-57            [-1, 512, 1, 1]           1,024\n",
      "             ReLU-58            [-1, 512, 1, 1]               0\n",
      "       BasicBlock-59            [-1, 512, 1, 1]               0\n",
      "           Conv2d-60            [-1, 512, 1, 1]       2,359,296\n",
      "      BatchNorm2d-61            [-1, 512, 1, 1]           1,024\n",
      "             ReLU-62            [-1, 512, 1, 1]               0\n",
      "           Conv2d-63            [-1, 512, 1, 1]       2,359,296\n",
      "      BatchNorm2d-64            [-1, 512, 1, 1]           1,024\n",
      "             ReLU-65            [-1, 512, 1, 1]               0\n",
      "       BasicBlock-66            [-1, 512, 1, 1]               0\n",
      "AdaptiveAvgPool2d-67            [-1, 512, 1, 1]               0\n",
      "           Linear-68                 [-1, 1000]         513,000\n",
      "           ResNet-69                 [-1, 1000]               0\n",
      "           Linear-70                   [-1, 10]          10,010\n",
      "           Linear-71                   [-1, 10]          10,010\n",
      "================================================================\n",
      "Total params: 11,709,532\n",
      "Trainable params: 11,709,532\n",
      "Non-trainable params: 0\n",
      "----------------------------------------------------------------\n",
      "Input size (MB): 0.01\n",
      "Forward/backward pass size (MB): 1.10\n",
      "Params size (MB): 44.67\n",
      "Estimated Total Size (MB): 45.78\n",
      "----------------------------------------------------------------\n"
     ]
    }
   ],
   "source": [
    "models = {} \n",
    "\n",
    "from torchsummary import summary\n",
    "\n",
    "#models['shared']= get_model(ARCH,NUM_CLASSES)\n",
    "#models['viewpoint']= get_model(ARCH,NUM_CLASSES)\n",
    "#models['category']= get_model(ARCH,NUM_CLASSES)\n",
    "\n",
    "###############################################\n",
    "models['shared']= model\n",
    "models['viewpoint']= model\n",
    "models['category']= model\n",
    "###############################################\n",
    "\n",
    "models['shared'].cuda();\n",
    "summary(models['shared'], (3, 28, 28)) #print a model summary\n",
    "models['viewpoint'].cuda();\n",
    "models['category'].cuda();\n",
    "\n",
    "best_models = {}\n",
    "best_models['shared'] = models['shared']\n",
    "best_models['viewpoint'] = models['viewpoint']\n",
    "best_models['category'] = models['category']\n",
    "\n",
    "best_test_loss = 100\n",
    "best_test_gm = 0\n",
    "\n",
    "all_train_gms = {}\n",
    "all_train_gms['shared'] = [0]\n",
    "all_train_gms['separate'] = [0]\n",
    "\n",
    "all_test_gms = {}\n",
    "all_test_gms['shared'] = [0]\n",
    "all_test_gms['separate'] = [0]\n",
    "\n",
    "all_unseen_test_gms = {}\n",
    "all_unseen_test_gms['shared'] = [0]\n",
    "all_unseen_test_gms['separate'] = [0]\n",
    "\n",
    "optimizers = {}\n",
    "optimizers['shared'] = optim.Adam(models['shared'].parameters(), lr=0.001)\n",
    "optimizers['viewpoint'] = optim.Adam(models['viewpoint'].parameters(), lr=0.001)\n",
    "optimizers['category'] = optim.Adam(models['category'].parameters(), lr=0.001)"
   ]
  },
  {
   "cell_type": "raw",
   "id": "189acda6",
   "metadata": {},
   "source": []
  },
  {
   "cell_type": "markdown",
   "id": "3ba94452",
   "metadata": {},
   "source": [
    "plt.rc('xtick', labelsize=14) \n",
    "plt.rc('ytick', labelsize=14) "
   ]
  },
  {
   "cell_type": "code",
   "execution_count": 17,
   "id": "commercial-difference",
   "metadata": {
    "id": "Fi_v4pE22eDi"
   },
   "outputs": [
    {
     "name": "stdout",
     "output_type": "stream",
     "text": [
      "Epoch: 9\n",
      "---------\n"
     ]
    }
   ],
   "source": [
    "for epoch in range(10):\n",
    "    train_gm_separate = 1\n",
    "    test_gm_separate = 1\n",
    "    unseen_test_gm_separate = 1\n",
    "\n",
    "    for TASK in ['viewpoint','category','shared']:\n",
    "        print('Epoch: %s, Task: %s'%(epoch,TASK))\n",
    "        print('---------')\n",
    "        models[TASK], train_loss, train_gm = train_epoch(models[TASK], TASK, optimizers[TASK])\n",
    "        best_models[TASK], test_loss, test_gm, best_test_loss, best_test_gm = test_epoch(models[TASK], best_models[TASK], best_test_loss, best_test_gm, TASK)\n",
    "        unseen_test_loss, unseen_test_gm = unseen_test_epoch(models[TASK], TASK)\n",
    "\n",
    "        if TASK != 'shared':\n",
    "            train_gm_separate = train_gm_separate * train_gm\n",
    "            test_gm_separate = test_gm_separate * test_gm\n",
    "            unseen_test_gm_separate = unseen_test_gm_separate * test_gm\n",
    "\n",
    "    all_train_gms['separate'].append(np.sqrt(train_gm_separate))\n",
    "    all_test_gms['separate'].append(np.sqrt(test_gm_separate))\n",
    "    all_unseen_test_gms['separate'].append(np.sqrt(unseen_test_gm_separate))\n",
    "    all_train_gms['shared'].append(train_gm)\n",
    "    all_test_gms['shared'].append(test_gm)\n",
    "    all_unseen_test_gms['shared'].append(np.sqrt(unseen_test_gm))\n",
    "    \n",
    "    clear_output()\n",
    "    print('Epoch: %s'%epoch)\n",
    "    print('---------')\n",
    "    \n",
    "\n",
    "    "
   ]
  },
  {
   "cell_type": "code",
   "execution_count": 18,
   "id": "11d2a5e3",
   "metadata": {},
   "outputs": [
    {
     "name": "stdout",
     "output_type": "stream",
     "text": [
      "Stored 'all_train_gms' (dict)\n",
      "Stored 'all_test_gms' (dict)\n",
      "Stored 'all_unseen_test_gms' (dict)\n"
     ]
    }
   ],
   "source": [
    "%store all_train_gms\n",
    "%store all_test_gms\n",
    "%store all_unseen_test_gms\n",
    "\n",
    "%store -r all_train_gms\n",
    "%store -r all_test_gms\n",
    "%store -r all_unseen_test_gms"
   ]
  },
  {
   "cell_type": "code",
   "execution_count": 19,
   "id": "7ab63fb8",
   "metadata": {},
   "outputs": [
    {
     "name": "stderr",
     "output_type": "stream",
     "text": [
      "C:\\Users\\Skyler\\AppData\\Local\\Temp/ipykernel_29000/3628201819.py:18: UserWarning: You have mixed positional and keyword arguments, some input may be discarded.\n",
      "  fig.legend([l1, l2],     # The line objects\n"
     ]
    },
    {
     "data": {
      "image/png": "[encoded data removed]",
      "text/plain": [
       "<Figure size 1440x432 with 3 Axes>"
      ]
     },
     "metadata": {
      "needs_background": "light"
     },
     "output_type": "display_data"
    }
   ],
   "source": [
    "line_labels = [\"Separate\", \"Shared\"]\n",
    "\n",
    "fig,ax = plt.subplots(1, 3, figsize=(20,6))\n",
    "l1 = ax[0].plot(all_train_gms['separate'], color = 'blue', marker = 'o', markersize=5)[0]\n",
    "l2 = ax[0].plot(all_train_gms['shared'], color = 'red', marker = 'o', markersize=5)[0]\n",
    "ax[0].set_title('Train Accuracy', fontsize=12)\n",
    "ax[0].set_ylim(0,1.05)\n",
    "\n",
    "ax[1].plot(all_test_gms['separate'], color = 'blue', marker = 'o', markersize=5)\n",
    "ax[1].plot(all_test_gms['shared'], color = 'red', marker = 'o', markersize=5)\n",
    "ax[1].set_title('Test Accuracy on Seen \\n Category-Viewpoint Combinations', fontsize=12)\n",
    "ax[1].set_ylim(0,1.05)\n",
    "\n",
    "ax[2].plot(all_unseen_test_gms['separate'], color = 'blue', marker = 'o', markersize=5)\n",
    "ax[2].plot(all_unseen_test_gms['shared'], color = 'red', marker = 'o', markersize=5)\n",
    "ax[2].set_ylim(0,1.05)\n",
    "ax[2].set_title('Test Accuracy on Unseen \\n Category-Viewpoint Combinations', fontsize=12)\n",
    "fig.legend([l1, l2],     # The line objects\n",
    "        labels=line_labels,   # The labels for each line\n",
    "        loc=\"center right\",   # Position of legend\n",
    "        borderaxespad=0.2,    # Small spacing around legend box\n",
    "        prop={\"size\":20})\n",
    "plt.subplots_adjust(right=0.85)\n",
    "plt.show()\n"
   ]
  },
  {
   "cell_type": "code",
   "execution_count": 20,
   "id": "certified-blair",
   "metadata": {},
   "outputs": [
    {
     "name": "stdout",
     "output_type": "stream",
     "text": [
      "[0, 0.6883955291726385, 0.7323473424526556, 0.7287372386108271, 0.7467774467691076, 0.7737309412007779, 0.7520915133854951, 0.7629646107323254, 0.7771730057014231, 0.7794666982016389, 0.7572336662126938]\n"
     ]
    }
   ],
   "source": [
    "print(all_unseen_test_gms['shared'])"
   ]
  },
  {
   "cell_type": "code",
   "execution_count": null,
   "id": "3d3dfd25",
   "metadata": {},
   "outputs": [],
   "source": []
  }
 ],
 "metadata": {
  "accelerator": "GPU",
  "colab": {
   "name": "separate_vs_shared.ipynb",
   "provenance": []
  },
  "kernelspec": {
   "display_name": "Python 3 (ipykernel)",
   "language": "python",
   "name": "python3"
  },
  "language_info": {
   "codemirror_mode": {
    "name": "ipython",
    "version": 3
   },
   "file_extension": ".py",
   "mimetype": "text/x-python",
   "name": "python",
   "nbconvert_exporter": "python",
   "pygments_lexer": "ipython3",
   "version": "3.9.7"
  }
 },
 "nbformat": 4,
 "nbformat_minor": 5
}
