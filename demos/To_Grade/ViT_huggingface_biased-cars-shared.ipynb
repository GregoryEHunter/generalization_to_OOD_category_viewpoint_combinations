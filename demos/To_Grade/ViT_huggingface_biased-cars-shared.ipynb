{
 "cells": [
  {
   "cell_type": "code",
   "execution_count": 1,
   "id": "becd9c72",
   "metadata": {},
   "outputs": [
    {
     "name": "stdout",
     "output_type": "stream",
     "text": [
      "C:\\Users\\Skyler\\Desktop\\Deep Learning\\final_project\\generalization_to_OOD_category_viewpoint_combinations-main\\demos\n",
      "C:\\Users\\Skyler\\Desktop\\Deep Learning\\final_project\\generalization_to_OOD_category_viewpoint_combinations-main\\demos\\../res\\loader\\loader.py\n",
      "C:\\Users\\Skyler\\Desktop\\Deep Learning\\final_project\\generalization_to_OOD_category_viewpoint_combinations-main\\res\\loader\\category_to_class_number_per_car_synthetic_only_cars_no_police.p\n",
      "{'Fordtest1957_clean': 0, 'Evo_clean': 1, 'Camaro_clean': 2, 'gto67_clean': 3, 'subaru_impreza_wrx_sti_08_clean': 4, 'fiat500blandswap_clean': 5, 'Shelby_clean': 6, 'GolfMK4-Cycles-Jay-Hardy-2011_clean': 7, 'Audi_R8_clean': 8, 'HUMMER_clean': 9, 'Honda_Civic_Type_R_clean': 20, 'Volvo_clean': 10, 'audia6_clean': 11, 'mini_clean': 12, 'porsche_911_clean': 13, 'CVPI2005_clean': 20, 'Porsche993_GT2_clean': 14, 'suzuki_sx4_clean': 15, 'rapide_clean': 16, 'cooper_mini_clean': 17, 'bg': 20}\n",
      "{'car_i0066': 0, 'car_i0070': 1, 'car_i0072': 2, 'car_i0063': 3, 'car_i0079': 4, 'car_i0082': 5}\n"
     ]
    }
   ],
   "source": [
    "#https://huggingface.co/blog/fine-tune-vit\n",
    "\n",
    "import datasets \n",
    "import transformers\n",
    "\n",
    "CODE_ROOT = '..'\n",
    "from __future__ import print_function, division\n",
    "import torch\n",
    "import torch.nn as nn\n",
    "import torch.optim as optim\n",
    "from torch.autograd import Variable\n",
    "import numpy as np\n",
    "import torchvision\n",
    "from torchvision import datasets, models, transforms\n",
    "import matplotlib.pyplot as plt\n",
    "import time\n",
    "import copy\n",
    "import os\n",
    "from PIL import ImageFile\n",
    "import random\n",
    "ImageFile.LOAD_TRUNCATED_IMAGES = True\n",
    "import argparse\n",
    "import pickle\n",
    "import sys\n",
    "sys.path.append('%s/res/'%CODE_ROOT)\n",
    "from models.models import get_model\n",
    "from loader.loader import get_loader\n",
    "from tqdm.notebook import tqdm\n",
    "from IPython.display import clear_output\n",
    "import matplotlib.pyplot as plt\n",
    "import seaborn as sns"
   ]
  },
  {
   "cell_type": "code",
   "execution_count": 2,
   "id": "70799625",
   "metadata": {},
   "outputs": [],
   "source": [
    "#load Biased-Cars dataset and setup\n",
    "\n",
    "DATASET_NAMES = ['rotation_model_15_compositions_seen']\n",
    "\n",
    "NUM_EPOCHS = 20\n",
    "BATCH_SIZE = 1\n",
    "ARCH = 'LATE_BRANCHING_COMBINED'\n",
    "\n",
    "image_transform=transforms.Compose([\n",
    "        transforms.ToTensor(),\n",
    "        transforms.Normalize((0.1307,), (0.3081,))\n",
    "    ])\n",
    "\n",
    "\n",
    "GPU = 1"
   ]
  },
  {
   "cell_type": "code",
   "execution_count": 3,
   "id": "c81a4db7",
   "metadata": {},
   "outputs": [],
   "source": [
    "NUM_CLASSES = (5,5,5,5)\n",
    "loader_new = get_loader('multi_attribute_loader_file_list')\n",
    "\n",
    "file_list_root = '%s/dataset_lists/biased_cars_lists/'%CODE_ROOT\n",
    "att_path = \"%s/data/biased_cars/att_dict_simplified.p\"%CODE_ROOT\n",
    "\n",
    "shuffles = {'train':True,'val':True,'test':False}\n",
    "\n",
    "data_dir = '%s/data/'%CODE_ROOT"
   ]
  },
  {
   "cell_type": "code",
   "execution_count": 4,
   "id": "af3bf7ed",
   "metadata": {},
   "outputs": [],
   "source": [
    "all_dsets = {}\n",
    "all_dset_loaders = {}\n",
    "all_dset_sizes = {}\n",
    "\n",
    "for DATASET_NAME in DATASET_NAMES:\n",
    "    file_lists = {}\n",
    "    dsets = {}\n",
    "    dset_loaders = {}\n",
    "    dset_sizes = {}\n",
    "    for phase in ['train','val','test']:\n",
    "        file_lists[phase] = \"%s/%s_list_%s.txt\"%(file_list_root,phase,DATASET_NAME)\n",
    "        dsets[phase] = loader_new(file_lists[phase],att_path, image_transform, data_dir)\n",
    "        dset_loaders[phase] = torch.utils.data.DataLoader(dsets[phase], batch_size=BATCH_SIZE, shuffle = shuffles[phase], num_workers=2,drop_last=True)\n",
    "        dset_sizes[phase] = len(dsets[phase])\n",
    "    all_dsets[DATASET_NAME] = dsets\n",
    "    all_dset_loaders[DATASET_NAME] = dset_loaders\n",
    "    all_dset_sizes[DATASET_NAME] = dset_sizes"
   ]
  },
  {
   "cell_type": "code",
   "execution_count": 5,
   "id": "88aaf91e",
   "metadata": {},
   "outputs": [
    {
     "data": {
      "application/vnd.jupyter.widget-view+json": {
       "model_id": "f0341183c841449eb78f70a8a2ad1e94",
       "version_major": 2,
       "version_minor": 0
      },
      "text/plain": [
       "  0%|          | 0/3400 [00:00<?, ?it/s]"
      ]
     },
     "metadata": {},
     "output_type": "display_data"
    },
    {
     "data": {
      "application/vnd.jupyter.widget-view+json": {
       "model_id": "075ea17e35424d07a7801212c8cf87ad",
       "version_major": 2,
       "version_minor": 0
      },
      "text/plain": [
       "  0%|          | 0/445 [00:00<?, ?it/s]"
      ]
     },
     "metadata": {},
     "output_type": "display_data"
    },
    {
     "data": {
      "application/vnd.jupyter.widget-view+json": {
       "model_id": "b100957560874b789d67695e90b2e754",
       "version_major": 2,
       "version_minor": 0
      },
      "text/plain": [
       "  0%|          | 0/800 [00:00<?, ?it/s]"
      ]
     },
     "metadata": {},
     "output_type": "display_data"
    }
   ],
   "source": [
    "#https://danielvanstrien.xyz/metadata/deployment/huggingface/ethics/huggingface-datasets/faiss/2022/01/13/image_search.html\n",
    "#create the dataframes for the ViT\n",
    "\n",
    "from torchvision.transforms import ToPILImage\n",
    "from PIL import Image\n",
    "import pandas as pd\n",
    "import io\n",
    "from collections import defaultdict\n",
    "\n",
    "train_data = defaultdict(list)\n",
    "\n",
    "for data in tqdm(dset_loaders['train']):\n",
    "    inputs, labels_all, paths = data\n",
    "    #print(labels_all)\n",
    "    #example output: tensor([[0, 9, 0, 8]])\n",
    "    #interpret as: digit=8, rotation=9\n",
    "    train_data['image_file_path'].append(str(paths[0]))\n",
    "    train_data['image'].append(os.path.basename(str(paths[0])))\n",
    "    train_data['labels'].append((labels_all.data.numpy()[0][1] * 5) + labels_all.data.numpy()[0][3])\n",
    "    \n",
    "val_data = defaultdict(list)\n",
    "\n",
    "for data in tqdm(dset_loaders['val']):\n",
    "    inputs, labels_all, paths = data\n",
    "    \n",
    "    val_data['image_file_path'].append(str(paths[0]))\n",
    "    val_data['image'].append(os.path.basename(str(paths[0])))\n",
    "    val_data['labels'].append((labels_all.data.numpy()[0][1] * 5) + labels_all.data.numpy()[0][3])\n",
    "    \n",
    "test_data = defaultdict(list)\n",
    "\n",
    "for data in tqdm(dset_loaders['test']):\n",
    "    inputs, labels_all, paths = data\n",
    "    \n",
    "    test_data['image_file_path'].append(str(paths[0]))\n",
    "    test_data['image'].append(os.path.basename(str(paths[0])))\n",
    "    test_data['labels'].append((labels_all.data.numpy()[0][1] * 5) + labels_all.data.numpy()[0][3])"
   ]
  },
  {
   "cell_type": "code",
   "execution_count": 6,
   "id": "373abe99",
   "metadata": {},
   "outputs": [
    {
     "data": {
      "text/plain": [
       "ClassLabel(num_classes=25, names=['0', '1', '2', '3', '4', '5', '6', '7', '8', '9', '10', '11', '12', '13', '14', '15', '16', '17', '18', '19', '20', '21', '22', '23', '24'], id=None)"
      ]
     },
     "execution_count": 6,
     "metadata": {},
     "output_type": "execute_result"
    }
   ],
   "source": [
    "#create dataset objects, and make class labels\n",
    "\n",
    "from datasets import Dataset\n",
    "from datasets import ClassLabel\n",
    "train_dataset = Dataset.from_dict(train_data)\n",
    "val_dataset = Dataset.from_dict(val_data)\n",
    "test_dataset = Dataset.from_dict(test_data)\n",
    "\n",
    "train_dataset.features['labels'] = ClassLabel(num_classes=25, names=['0','1','2','3','4','5','6','7','8','9','10','11','12','13','14','15','16','17','18','19','20','21','22','23','24'], id=None)\n",
    "train_dataset.features['labels']"
   ]
  },
  {
   "cell_type": "code",
   "execution_count": 7,
   "id": "5bc55534",
   "metadata": {},
   "outputs": [],
   "source": [
    "#function to load and reformat image\n",
    "\n",
    "from resizeimage import resizeimage\n",
    "from io import BytesIO\n",
    "def load_image(path):\n",
    "    \n",
    "    img = Image.open(path)\n",
    "    img = img.convert(\"RGB\")\n",
    "    b = BytesIO()\n",
    "    img.save(b,format=\"jpeg\")\n",
    "    im = Image.open(b)\n",
    "        \n",
    "    return im "
   ]
  },
  {
   "cell_type": "code",
   "execution_count": 8,
   "id": "7c14fde6",
   "metadata": {},
   "outputs": [],
   "source": [
    "#function to load image\n",
    "\n",
    "def try_load_image(filename):\n",
    "    try:\n",
    "        image = load_image(filename)\n",
    "        if isinstance(image, Image.Image):\n",
    "            return image\n",
    "    except Image.UnidentifiedImageError:\n",
    "        return None"
   ]
  },
  {
   "cell_type": "code",
   "execution_count": 9,
   "id": "244cc7ab",
   "metadata": {},
   "outputs": [
    {
     "data": {
      "application/vnd.jupyter.widget-view+json": {
       "model_id": "b2f4cee6d264485e85f1f6897b897e8c",
       "version_major": 2,
       "version_minor": 0
      },
      "text/plain": [
       "  0%|          | 0/3400 [00:00<?, ?ex/s]"
      ]
     },
     "metadata": {},
     "output_type": "display_data"
    },
    {
     "data": {
      "application/vnd.jupyter.widget-view+json": {
       "model_id": "2eb8dd165237420ca536a612da353ab7",
       "version_major": 2,
       "version_minor": 0
      },
      "text/plain": [
       "  0%|          | 0/445 [00:00<?, ?ex/s]"
      ]
     },
     "metadata": {},
     "output_type": "display_data"
    },
    {
     "data": {
      "application/vnd.jupyter.widget-view+json": {
       "model_id": "b42b57176e5e4bda81fc3dd50974cd9d",
       "version_major": 2,
       "version_minor": 0
      },
      "text/plain": [
       "  0%|          | 0/800 [00:00<?, ?ex/s]"
      ]
     },
     "metadata": {},
     "output_type": "display_data"
    }
   ],
   "source": [
    "#load the images from supplied paths\n",
    "#https://huggingface.co/docs/transformers/training\n",
    "\n",
    "train_dataset = train_dataset.map(lambda example: {\"img\": try_load_image(example['image_file_path'])},writer_batch_size=50)\n",
    "val_dataset = val_dataset.map(lambda example: {\"img\": try_load_image(example['image_file_path'])},writer_batch_size=50)\n",
    "test_dataset = test_dataset.map(lambda example: {\"img\": try_load_image(example['image_file_path'])},writer_batch_size=50)\n"
   ]
  },
  {
   "cell_type": "code",
   "execution_count": 10,
   "id": "542d1245",
   "metadata": {},
   "outputs": [],
   "source": [
    "#select 600 images for training, 200 for validation, and 200 for testing\n",
    "\n",
    "#train_dataset = train_dataset.select(range(600))\n",
    "#val_dataset = val_dataset.select(range(200))\n",
    "#test_dataset = test_dataset.select(range(200))"
   ]
  },
  {
   "cell_type": "code",
   "execution_count": 11,
   "id": "bb89d7ea",
   "metadata": {},
   "outputs": [
    {
     "data": {
      "text/plain": [
       "{'image_file_path': '../data//biased_cars/GREEN_CARS/train/images/frame_0005_0_5_0892836_2020-02-05_PLJYHHD0.png',\n",
       " 'image': 'frame_0005_0_5_0892836_2020-02-05_PLJYHHD0.png',\n",
       " 'labels': 0,\n",
       " 'img': <PIL.JpegImagePlugin.JpegImageFile image mode=RGB size=256x256 at 0x20E1CE91B20>}"
      ]
     },
     "execution_count": 11,
     "metadata": {},
     "output_type": "execute_result"
    }
   ],
   "source": [
    "ex = train_dataset[400]\n",
    "ex"
   ]
  },
  {
   "cell_type": "code",
   "execution_count": 12,
   "id": "aee6e73b",
   "metadata": {},
   "outputs": [
    {
     "name": "stdout",
     "output_type": "stream",
     "text": [
      "<PIL.JpegImagePlugin.JpegImageFile image mode=RGB size=256x256 at 0x20E1CE91B20>\n"
     ]
    },
    {
     "data": {
      "image/png": "[encoded data removed]",
      "text/plain": [
       "<PIL.JpegImagePlugin.JpegImageFile image mode=RGB size=256x256 at 0x20E1CE91B20>"
      ]
     },
     "execution_count": 12,
     "metadata": {},
     "output_type": "execute_result"
    }
   ],
   "source": [
    "image = ex['img']\n",
    "print(image)\n",
    "image"
   ]
  },
  {
   "cell_type": "code",
   "execution_count": 13,
   "id": "d4428e38",
   "metadata": {},
   "outputs": [
    {
     "data": {
      "text/plain": [
       "ClassLabel(num_classes=25, names=['0', '1', '2', '3', '4', '5', '6', '7', '8', '9', '10', '11', '12', '13', '14', '15', '16', '17', '18', '19', '20', '21', '22', '23', '24'], id=None)"
      ]
     },
     "execution_count": 13,
     "metadata": {},
     "output_type": "execute_result"
    }
   ],
   "source": [
    "labels = train_dataset.features['labels']\n",
    "labels"
   ]
  },
  {
   "cell_type": "code",
   "execution_count": 14,
   "id": "beddd612",
   "metadata": {},
   "outputs": [
    {
     "data": {
      "text/plain": [
       "'0'"
      ]
     },
     "execution_count": 14,
     "metadata": {},
     "output_type": "execute_result"
    }
   ],
   "source": [
    "labels.int2str(ex['labels'])\n"
   ]
  },
  {
   "cell_type": "code",
   "execution_count": 15,
   "id": "b9311419",
   "metadata": {},
   "outputs": [
    {
     "name": "stdout",
     "output_type": "stream",
     "text": [
      "ViTFeatureExtractor {\n",
      "  \"do_normalize\": true,\n",
      "  \"do_resize\": true,\n",
      "  \"feature_extractor_type\": \"ViTFeatureExtractor\",\n",
      "  \"image_mean\": [\n",
      "    0.5,\n",
      "    0.5,\n",
      "    0.5\n",
      "  ],\n",
      "  \"image_std\": [\n",
      "    0.5,\n",
      "    0.5,\n",
      "    0.5\n",
      "  ],\n",
      "  \"resample\": 2,\n",
      "  \"size\": 224\n",
      "}\n",
      "\n"
     ]
    }
   ],
   "source": [
    "from transformers import ViTFeatureExtractor\n",
    "\n",
    "model_name_or_path = 'google/vit-base-patch16-224-in21k'\n",
    "feature_extractor = ViTFeatureExtractor.from_pretrained(model_name_or_path)\n",
    "print(feature_extractor)"
   ]
  },
  {
   "cell_type": "code",
   "execution_count": 16,
   "id": "35595ce0",
   "metadata": {},
   "outputs": [
    {
     "name": "stdout",
     "output_type": "stream",
     "text": [
      "<PIL.JpegImagePlugin.JpegImageFile image mode=RGB size=256x256 at 0x20E1CE91B20>\n"
     ]
    },
    {
     "data": {
      "text/plain": [
       "{'pixel_values': tensor([[[[-0.2000, -0.1765, -0.1686,  ...,  0.3882,  0.3725,  0.3725],\n",
       "          [-0.1608, -0.1451, -0.1529,  ...,  0.3647,  0.3647,  0.3725],\n",
       "          [-0.1373, -0.1373, -0.1608,  ...,  0.3412,  0.3490,  0.3647],\n",
       "          ...,\n",
       "          [-0.5137, -0.4902, -0.4824,  ..., -0.4824, -0.4902, -0.5137],\n",
       "          [-0.5216, -0.4980, -0.4824,  ..., -0.4745, -0.4824, -0.5059],\n",
       "          [-0.5216, -0.4980, -0.4824,  ..., -0.5059, -0.5216, -0.5451]],\n",
       "\n",
       "         [[-0.0902, -0.0667, -0.0588,  ...,  0.5451,  0.5294,  0.5294],\n",
       "          [-0.0510, -0.0353, -0.0431,  ...,  0.5216,  0.5216,  0.5294],\n",
       "          [-0.0275, -0.0275, -0.0510,  ...,  0.5059,  0.5137,  0.5216],\n",
       "          ...,\n",
       "          [-0.4667, -0.4431, -0.4353,  ..., -0.4353, -0.4431, -0.4667],\n",
       "          [-0.4745, -0.4510, -0.4353,  ..., -0.4275, -0.4353, -0.4588],\n",
       "          [-0.4745, -0.4510, -0.4353,  ..., -0.4588, -0.4745, -0.4980]],\n",
       "\n",
       "         [[ 0.2000,  0.2235,  0.2314,  ...,  1.0000,  1.0000,  1.0000],\n",
       "          [ 0.2392,  0.2549,  0.2471,  ...,  0.9843,  0.9843,  0.9922],\n",
       "          [ 0.2627,  0.2627,  0.2392,  ...,  0.9608,  0.9686,  0.9765],\n",
       "          ...,\n",
       "          [-0.3569, -0.3333, -0.3255,  ..., -0.3098, -0.3176, -0.3412],\n",
       "          [-0.3647, -0.3412, -0.3255,  ..., -0.3020, -0.3098, -0.3333],\n",
       "          [-0.3647, -0.3412, -0.3255,  ..., -0.3333, -0.3490, -0.3725]]]])}"
      ]
     },
     "execution_count": 16,
     "metadata": {},
     "output_type": "execute_result"
    }
   ],
   "source": [
    "print(image)\n",
    "feature_extractor(image, return_tensors='pt')\n"
   ]
  },
  {
   "cell_type": "code",
   "execution_count": 17,
   "id": "fcd4fd13",
   "metadata": {},
   "outputs": [],
   "source": [
    "def process_example(example):\n",
    "    inputs = feature_extractor(example['img'], return_tensors='pt')\n",
    "    inputs['labels'] = example['labels']\n",
    "    return inputs"
   ]
  },
  {
   "cell_type": "code",
   "execution_count": 18,
   "id": "d2bd3cbf",
   "metadata": {},
   "outputs": [
    {
     "data": {
      "text/plain": [
       "{'pixel_values': tensor([[[[-0.2941, -0.2941, -0.2941,  ..., -0.0510, -0.0431, -0.0431],\n",
       "          [-0.2941, -0.2941, -0.2941,  ..., -0.0510, -0.0431, -0.0431],\n",
       "          [-0.2941, -0.2941, -0.2941,  ..., -0.0431, -0.0353, -0.0353],\n",
       "          ...,\n",
       "          [ 0.2471,  0.1216,  0.0510,  ..., -0.6157, -0.6157, -0.6235],\n",
       "          [ 0.0824,  0.0667,  0.0667,  ..., -0.6078, -0.6078, -0.6078],\n",
       "          [ 0.0980,  0.1529,  0.0667,  ..., -0.5843, -0.5843, -0.5843]],\n",
       "\n",
       "         [[ 0.2549,  0.2549,  0.2549,  ...,  0.4431,  0.4510,  0.4510],\n",
       "          [ 0.2549,  0.2549,  0.2549,  ...,  0.4431,  0.4510,  0.4510],\n",
       "          [ 0.2549,  0.2549,  0.2549,  ...,  0.4510,  0.4588,  0.4588],\n",
       "          ...,\n",
       "          [-0.8510, -0.8902, -0.8588,  ..., -0.5373, -0.5373, -0.5451],\n",
       "          [-0.8980, -0.8588, -0.8353,  ..., -0.5294, -0.5294, -0.5294],\n",
       "          [-0.8118, -0.7255, -0.7961,  ..., -0.5059, -0.5059, -0.5059]],\n",
       "\n",
       "         [[ 1.0000,  1.0000,  1.0000,  ...,  1.0000,  1.0000,  1.0000],\n",
       "          [ 1.0000,  1.0000,  1.0000,  ...,  1.0000,  1.0000,  1.0000],\n",
       "          [ 1.0000,  1.0000,  1.0000,  ...,  1.0000,  1.0000,  1.0000],\n",
       "          ...,\n",
       "          [-0.8667, -0.9216, -0.9137,  ..., -0.3412, -0.3412, -0.3490],\n",
       "          [-0.9059, -0.8588, -0.8118,  ..., -0.3333, -0.3333, -0.3333],\n",
       "          [-0.7490, -0.6314, -0.6235,  ..., -0.3098, -0.3098, -0.3098]]]]), 'labels': 8}"
      ]
     },
     "execution_count": 18,
     "metadata": {},
     "output_type": "execute_result"
    }
   ],
   "source": [
    "process_example(train_dataset[0])\n"
   ]
  },
  {
   "cell_type": "code",
   "execution_count": 19,
   "id": "5aaf3307",
   "metadata": {},
   "outputs": [],
   "source": [
    "def transform(example_batch):\n",
    "    # Take a list of PIL images and turn them to pixel values\n",
    "    inputs = feature_extractor([x for x in example_batch['img']], return_tensors='pt')\n",
    "\n",
    "    # Don't forget to include the labels!\n",
    "    inputs['labels'] = example_batch['labels']\n",
    "    return inputs"
   ]
  },
  {
   "cell_type": "code",
   "execution_count": 20,
   "id": "e1c46438",
   "metadata": {},
   "outputs": [],
   "source": [
    "prepared_ds_train = train_dataset.with_transform(transform)\n",
    "prepared_ds_val = val_dataset.with_transform(transform)\n",
    "prepared_ds_test = test_dataset.with_transform(transform)\n"
   ]
  },
  {
   "cell_type": "code",
   "execution_count": 21,
   "id": "e27118b0",
   "metadata": {},
   "outputs": [
    {
     "data": {
      "text/plain": [
       "{'pixel_values': tensor([[[[-0.2941, -0.2941, -0.2941,  ..., -0.0510, -0.0431, -0.0431],\n",
       "          [-0.2941, -0.2941, -0.2941,  ..., -0.0510, -0.0431, -0.0431],\n",
       "          [-0.2941, -0.2941, -0.2941,  ..., -0.0431, -0.0353, -0.0353],\n",
       "          ...,\n",
       "          [ 0.2471,  0.1216,  0.0510,  ..., -0.6157, -0.6157, -0.6235],\n",
       "          [ 0.0824,  0.0667,  0.0667,  ..., -0.6078, -0.6078, -0.6078],\n",
       "          [ 0.0980,  0.1529,  0.0667,  ..., -0.5843, -0.5843, -0.5843]],\n",
       "\n",
       "         [[ 0.2549,  0.2549,  0.2549,  ...,  0.4431,  0.4510,  0.4510],\n",
       "          [ 0.2549,  0.2549,  0.2549,  ...,  0.4431,  0.4510,  0.4510],\n",
       "          [ 0.2549,  0.2549,  0.2549,  ...,  0.4510,  0.4588,  0.4588],\n",
       "          ...,\n",
       "          [-0.8510, -0.8902, -0.8588,  ..., -0.5373, -0.5373, -0.5451],\n",
       "          [-0.8980, -0.8588, -0.8353,  ..., -0.5294, -0.5294, -0.5294],\n",
       "          [-0.8118, -0.7255, -0.7961,  ..., -0.5059, -0.5059, -0.5059]],\n",
       "\n",
       "         [[ 1.0000,  1.0000,  1.0000,  ...,  1.0000,  1.0000,  1.0000],\n",
       "          [ 1.0000,  1.0000,  1.0000,  ...,  1.0000,  1.0000,  1.0000],\n",
       "          [ 1.0000,  1.0000,  1.0000,  ...,  1.0000,  1.0000,  1.0000],\n",
       "          ...,\n",
       "          [-0.8667, -0.9216, -0.9137,  ..., -0.3412, -0.3412, -0.3490],\n",
       "          [-0.9059, -0.8588, -0.8118,  ..., -0.3333, -0.3333, -0.3333],\n",
       "          [-0.7490, -0.6314, -0.6235,  ..., -0.3098, -0.3098, -0.3098]]],\n",
       "\n",
       "\n",
       "        [[[-0.1294, -0.1294, -0.1373,  ..., -0.0353, -0.0431, -0.0431],\n",
       "          [-0.1294, -0.1294, -0.1294,  ..., -0.0353, -0.0353, -0.0431],\n",
       "          [-0.1216, -0.1216, -0.1294,  ..., -0.0275, -0.0353, -0.0353],\n",
       "          ...,\n",
       "          [-0.6706, -0.6706, -0.6706,  ..., -0.6863, -0.6941, -0.6941],\n",
       "          [-0.6706, -0.6706, -0.6706,  ..., -0.6863, -0.6863, -0.6863],\n",
       "          [-0.6706, -0.6706, -0.6706,  ..., -0.6784, -0.6784, -0.6706]],\n",
       "\n",
       "         [[ 0.2392,  0.2392,  0.2314,  ...,  0.3098,  0.3020,  0.3020],\n",
       "          [ 0.2392,  0.2392,  0.2314,  ...,  0.3098,  0.3098,  0.3020],\n",
       "          [ 0.2392,  0.2392,  0.2314,  ...,  0.3176,  0.3098,  0.3098],\n",
       "          ...,\n",
       "          [-0.5843, -0.5843, -0.5843,  ..., -0.6000, -0.6078, -0.6078],\n",
       "          [-0.5843, -0.5843, -0.5843,  ..., -0.6000, -0.6000, -0.6000],\n",
       "          [-0.5843, -0.5843, -0.5843,  ..., -0.5922, -0.5922, -0.5843]],\n",
       "\n",
       "         [[ 0.9608,  0.9608,  0.9529,  ...,  1.0000,  1.0000,  1.0000],\n",
       "          [ 0.9686,  0.9686,  0.9608,  ...,  1.0000,  1.0000,  1.0000],\n",
       "          [ 0.9765,  0.9765,  0.9765,  ...,  1.0000,  1.0000,  1.0000],\n",
       "          ...,\n",
       "          [-0.3333, -0.3333, -0.3333,  ..., -0.3490, -0.3569, -0.3569],\n",
       "          [-0.3333, -0.3333, -0.3333,  ..., -0.3490, -0.3490, -0.3490],\n",
       "          [-0.3333, -0.3333, -0.3333,  ..., -0.3412, -0.3412, -0.3333]]]]), 'labels': [8, 16]}"
      ]
     },
     "execution_count": 21,
     "metadata": {},
     "output_type": "execute_result"
    }
   ],
   "source": [
    "prepared_ds_train[0:2]\n"
   ]
  },
  {
   "cell_type": "code",
   "execution_count": 22,
   "id": "5e5b89b6",
   "metadata": {},
   "outputs": [],
   "source": [
    "import torch\n",
    "\n",
    "def collate_fn(batch):\n",
    "    return {\n",
    "        'pixel_values': torch.stack([x['pixel_values'] for x in batch]),\n",
    "        'labels': torch.tensor([x['labels'] for x in batch])\n",
    "    }"
   ]
  },
  {
   "cell_type": "code",
   "execution_count": 23,
   "id": "ac0356bf",
   "metadata": {},
   "outputs": [],
   "source": [
    "import numpy as np\n",
    "from datasets import load_metric\n",
    "\n",
    "metric = load_metric(\"accuracy\")\n",
    "def compute_metrics(p):\n",
    "    return metric.compute(predictions=np.argmax(p.predictions, axis=1), references=p.label_ids)"
   ]
  },
  {
   "cell_type": "code",
   "execution_count": 24,
   "id": "fe545af6",
   "metadata": {},
   "outputs": [
    {
     "name": "stderr",
     "output_type": "stream",
     "text": [
      "Some weights of the model checkpoint at google/vit-base-patch16-224-in21k were not used when initializing ViTForImageClassification: ['pooler.dense.bias', 'pooler.dense.weight']\n",
      "- This IS expected if you are initializing ViTForImageClassification from the checkpoint of a model trained on another task or with another architecture (e.g. initializing a BertForSequenceClassification model from a BertForPreTraining model).\n",
      "- This IS NOT expected if you are initializing ViTForImageClassification from the checkpoint of a model that you expect to be exactly identical (initializing a BertForSequenceClassification model from a BertForSequenceClassification model).\n",
      "Some weights of ViTForImageClassification were not initialized from the model checkpoint at google/vit-base-patch16-224-in21k and are newly initialized: ['classifier.bias', 'classifier.weight']\n",
      "You should probably TRAIN this model on a down-stream task to be able to use it for predictions and inference.\n"
     ]
    }
   ],
   "source": [
    "from transformers import ViTForImageClassification\n",
    "\n",
    "#labels = prepared_ds_train.features['labels'].names\n",
    "labels = train_dataset.features['labels'].names\n",
    "\n",
    "model = ViTForImageClassification.from_pretrained(\n",
    "    model_name_or_path,\n",
    "    num_labels=len(labels),\n",
    "    id2label={str(i): c for i, c in enumerate(labels)},\n",
    "    label2id={c: str(i) for i, c in enumerate(labels)}\n",
    ")\n"
   ]
  },
  {
   "cell_type": "code",
   "execution_count": 25,
   "id": "c854a26b",
   "metadata": {},
   "outputs": [],
   "source": [
    "from transformers import TrainingArguments\n",
    "\n",
    "training_args = TrainingArguments(\n",
    "  output_dir=\"./vit-base-beans\",\n",
    "  per_device_train_batch_size=16,\n",
    "  evaluation_strategy=\"steps\",\n",
    "  num_train_epochs=4,\n",
    "  fp16=True,\n",
    "  save_steps=100,\n",
    "  eval_steps=100,\n",
    "  logging_steps=10,\n",
    "  learning_rate=2e-4,\n",
    "  save_total_limit=2,\n",
    "  remove_unused_columns=False,\n",
    "  push_to_hub=False,\n",
    "  report_to='tensorboard',\n",
    "  load_best_model_at_end=True,\n",
    ")"
   ]
  },
  {
   "cell_type": "code",
   "execution_count": 26,
   "id": "171367f2",
   "metadata": {},
   "outputs": [
    {
     "name": "stderr",
     "output_type": "stream",
     "text": [
      "Using amp half precision backend\n"
     ]
    },
    {
     "data": {
      "text/plain": [
       "ViTForImageClassification(\n",
       "  (vit): ViTModel(\n",
       "    (embeddings): ViTEmbeddings(\n",
       "      (patch_embeddings): PatchEmbeddings(\n",
       "        (projection): Conv2d(3, 768, kernel_size=(16, 16), stride=(16, 16))\n",
       "      )\n",
       "      (dropout): Dropout(p=0.0, inplace=False)\n",
       "    )\n",
       "    (encoder): ViTEncoder(\n",
       "      (layer): ModuleList(\n",
       "        (0): ViTLayer(\n",
       "          (attention): ViTAttention(\n",
       "            (attention): ViTSelfAttention(\n",
       "              (query): Linear(in_features=768, out_features=768, bias=True)\n",
       "              (key): Linear(in_features=768, out_features=768, bias=True)\n",
       "              (value): Linear(in_features=768, out_features=768, bias=True)\n",
       "              (dropout): Dropout(p=0.0, inplace=False)\n",
       "            )\n",
       "            (output): ViTSelfOutput(\n",
       "              (dense): Linear(in_features=768, out_features=768, bias=True)\n",
       "              (dropout): Dropout(p=0.0, inplace=False)\n",
       "            )\n",
       "          )\n",
       "          (intermediate): ViTIntermediate(\n",
       "            (dense): Linear(in_features=768, out_features=3072, bias=True)\n",
       "            (intermediate_act_fn): GELUActivation()\n",
       "          )\n",
       "          (output): ViTOutput(\n",
       "            (dense): Linear(in_features=3072, out_features=768, bias=True)\n",
       "            (dropout): Dropout(p=0.0, inplace=False)\n",
       "          )\n",
       "          (layernorm_before): LayerNorm((768,), eps=1e-12, elementwise_affine=True)\n",
       "          (layernorm_after): LayerNorm((768,), eps=1e-12, elementwise_affine=True)\n",
       "        )\n",
       "        (1): ViTLayer(\n",
       "          (attention): ViTAttention(\n",
       "            (attention): ViTSelfAttention(\n",
       "              (query): Linear(in_features=768, out_features=768, bias=True)\n",
       "              (key): Linear(in_features=768, out_features=768, bias=True)\n",
       "              (value): Linear(in_features=768, out_features=768, bias=True)\n",
       "              (dropout): Dropout(p=0.0, inplace=False)\n",
       "            )\n",
       "            (output): ViTSelfOutput(\n",
       "              (dense): Linear(in_features=768, out_features=768, bias=True)\n",
       "              (dropout): Dropout(p=0.0, inplace=False)\n",
       "            )\n",
       "          )\n",
       "          (intermediate): ViTIntermediate(\n",
       "            (dense): Linear(in_features=768, out_features=3072, bias=True)\n",
       "            (intermediate_act_fn): GELUActivation()\n",
       "          )\n",
       "          (output): ViTOutput(\n",
       "            (dense): Linear(in_features=3072, out_features=768, bias=True)\n",
       "            (dropout): Dropout(p=0.0, inplace=False)\n",
       "          )\n",
       "          (layernorm_before): LayerNorm((768,), eps=1e-12, elementwise_affine=True)\n",
       "          (layernorm_after): LayerNorm((768,), eps=1e-12, elementwise_affine=True)\n",
       "        )\n",
       "        (2): ViTLayer(\n",
       "          (attention): ViTAttention(\n",
       "            (attention): ViTSelfAttention(\n",
       "              (query): Linear(in_features=768, out_features=768, bias=True)\n",
       "              (key): Linear(in_features=768, out_features=768, bias=True)\n",
       "              (value): Linear(in_features=768, out_features=768, bias=True)\n",
       "              (dropout): Dropout(p=0.0, inplace=False)\n",
       "            )\n",
       "            (output): ViTSelfOutput(\n",
       "              (dense): Linear(in_features=768, out_features=768, bias=True)\n",
       "              (dropout): Dropout(p=0.0, inplace=False)\n",
       "            )\n",
       "          )\n",
       "          (intermediate): ViTIntermediate(\n",
       "            (dense): Linear(in_features=768, out_features=3072, bias=True)\n",
       "            (intermediate_act_fn): GELUActivation()\n",
       "          )\n",
       "          (output): ViTOutput(\n",
       "            (dense): Linear(in_features=3072, out_features=768, bias=True)\n",
       "            (dropout): Dropout(p=0.0, inplace=False)\n",
       "          )\n",
       "          (layernorm_before): LayerNorm((768,), eps=1e-12, elementwise_affine=True)\n",
       "          (layernorm_after): LayerNorm((768,), eps=1e-12, elementwise_affine=True)\n",
       "        )\n",
       "        (3): ViTLayer(\n",
       "          (attention): ViTAttention(\n",
       "            (attention): ViTSelfAttention(\n",
       "              (query): Linear(in_features=768, out_features=768, bias=True)\n",
       "              (key): Linear(in_features=768, out_features=768, bias=True)\n",
       "              (value): Linear(in_features=768, out_features=768, bias=True)\n",
       "              (dropout): Dropout(p=0.0, inplace=False)\n",
       "            )\n",
       "            (output): ViTSelfOutput(\n",
       "              (dense): Linear(in_features=768, out_features=768, bias=True)\n",
       "              (dropout): Dropout(p=0.0, inplace=False)\n",
       "            )\n",
       "          )\n",
       "          (intermediate): ViTIntermediate(\n",
       "            (dense): Linear(in_features=768, out_features=3072, bias=True)\n",
       "            (intermediate_act_fn): GELUActivation()\n",
       "          )\n",
       "          (output): ViTOutput(\n",
       "            (dense): Linear(in_features=3072, out_features=768, bias=True)\n",
       "            (dropout): Dropout(p=0.0, inplace=False)\n",
       "          )\n",
       "          (layernorm_before): LayerNorm((768,), eps=1e-12, elementwise_affine=True)\n",
       "          (layernorm_after): LayerNorm((768,), eps=1e-12, elementwise_affine=True)\n",
       "        )\n",
       "        (4): ViTLayer(\n",
       "          (attention): ViTAttention(\n",
       "            (attention): ViTSelfAttention(\n",
       "              (query): Linear(in_features=768, out_features=768, bias=True)\n",
       "              (key): Linear(in_features=768, out_features=768, bias=True)\n",
       "              (value): Linear(in_features=768, out_features=768, bias=True)\n",
       "              (dropout): Dropout(p=0.0, inplace=False)\n",
       "            )\n",
       "            (output): ViTSelfOutput(\n",
       "              (dense): Linear(in_features=768, out_features=768, bias=True)\n",
       "              (dropout): Dropout(p=0.0, inplace=False)\n",
       "            )\n",
       "          )\n",
       "          (intermediate): ViTIntermediate(\n",
       "            (dense): Linear(in_features=768, out_features=3072, bias=True)\n",
       "            (intermediate_act_fn): GELUActivation()\n",
       "          )\n",
       "          (output): ViTOutput(\n",
       "            (dense): Linear(in_features=3072, out_features=768, bias=True)\n",
       "            (dropout): Dropout(p=0.0, inplace=False)\n",
       "          )\n",
       "          (layernorm_before): LayerNorm((768,), eps=1e-12, elementwise_affine=True)\n",
       "          (layernorm_after): LayerNorm((768,), eps=1e-12, elementwise_affine=True)\n",
       "        )\n",
       "        (5): ViTLayer(\n",
       "          (attention): ViTAttention(\n",
       "            (attention): ViTSelfAttention(\n",
       "              (query): Linear(in_features=768, out_features=768, bias=True)\n",
       "              (key): Linear(in_features=768, out_features=768, bias=True)\n",
       "              (value): Linear(in_features=768, out_features=768, bias=True)\n",
       "              (dropout): Dropout(p=0.0, inplace=False)\n",
       "            )\n",
       "            (output): ViTSelfOutput(\n",
       "              (dense): Linear(in_features=768, out_features=768, bias=True)\n",
       "              (dropout): Dropout(p=0.0, inplace=False)\n",
       "            )\n",
       "          )\n",
       "          (intermediate): ViTIntermediate(\n",
       "            (dense): Linear(in_features=768, out_features=3072, bias=True)\n",
       "            (intermediate_act_fn): GELUActivation()\n",
       "          )\n",
       "          (output): ViTOutput(\n",
       "            (dense): Linear(in_features=3072, out_features=768, bias=True)\n",
       "            (dropout): Dropout(p=0.0, inplace=False)\n",
       "          )\n",
       "          (layernorm_before): LayerNorm((768,), eps=1e-12, elementwise_affine=True)\n",
       "          (layernorm_after): LayerNorm((768,), eps=1e-12, elementwise_affine=True)\n",
       "        )\n",
       "        (6): ViTLayer(\n",
       "          (attention): ViTAttention(\n",
       "            (attention): ViTSelfAttention(\n",
       "              (query): Linear(in_features=768, out_features=768, bias=True)\n",
       "              (key): Linear(in_features=768, out_features=768, bias=True)\n",
       "              (value): Linear(in_features=768, out_features=768, bias=True)\n",
       "              (dropout): Dropout(p=0.0, inplace=False)\n",
       "            )\n",
       "            (output): ViTSelfOutput(\n",
       "              (dense): Linear(in_features=768, out_features=768, bias=True)\n",
       "              (dropout): Dropout(p=0.0, inplace=False)\n",
       "            )\n",
       "          )\n",
       "          (intermediate): ViTIntermediate(\n",
       "            (dense): Linear(in_features=768, out_features=3072, bias=True)\n",
       "            (intermediate_act_fn): GELUActivation()\n",
       "          )\n",
       "          (output): ViTOutput(\n",
       "            (dense): Linear(in_features=3072, out_features=768, bias=True)\n",
       "            (dropout): Dropout(p=0.0, inplace=False)\n",
       "          )\n",
       "          (layernorm_before): LayerNorm((768,), eps=1e-12, elementwise_affine=True)\n",
       "          (layernorm_after): LayerNorm((768,), eps=1e-12, elementwise_affine=True)\n",
       "        )\n",
       "        (7): ViTLayer(\n",
       "          (attention): ViTAttention(\n",
       "            (attention): ViTSelfAttention(\n",
       "              (query): Linear(in_features=768, out_features=768, bias=True)\n",
       "              (key): Linear(in_features=768, out_features=768, bias=True)\n",
       "              (value): Linear(in_features=768, out_features=768, bias=True)\n",
       "              (dropout): Dropout(p=0.0, inplace=False)\n",
       "            )\n",
       "            (output): ViTSelfOutput(\n",
       "              (dense): Linear(in_features=768, out_features=768, bias=True)\n",
       "              (dropout): Dropout(p=0.0, inplace=False)\n",
       "            )\n",
       "          )\n",
       "          (intermediate): ViTIntermediate(\n",
       "            (dense): Linear(in_features=768, out_features=3072, bias=True)\n",
       "            (intermediate_act_fn): GELUActivation()\n",
       "          )\n",
       "          (output): ViTOutput(\n",
       "            (dense): Linear(in_features=3072, out_features=768, bias=True)\n",
       "            (dropout): Dropout(p=0.0, inplace=False)\n",
       "          )\n",
       "          (layernorm_before): LayerNorm((768,), eps=1e-12, elementwise_affine=True)\n",
       "          (layernorm_after): LayerNorm((768,), eps=1e-12, elementwise_affine=True)\n",
       "        )\n",
       "        (8): ViTLayer(\n",
       "          (attention): ViTAttention(\n",
       "            (attention): ViTSelfAttention(\n",
       "              (query): Linear(in_features=768, out_features=768, bias=True)\n",
       "              (key): Linear(in_features=768, out_features=768, bias=True)\n",
       "              (value): Linear(in_features=768, out_features=768, bias=True)\n",
       "              (dropout): Dropout(p=0.0, inplace=False)\n",
       "            )\n",
       "            (output): ViTSelfOutput(\n",
       "              (dense): Linear(in_features=768, out_features=768, bias=True)\n",
       "              (dropout): Dropout(p=0.0, inplace=False)\n",
       "            )\n",
       "          )\n",
       "          (intermediate): ViTIntermediate(\n",
       "            (dense): Linear(in_features=768, out_features=3072, bias=True)\n",
       "            (intermediate_act_fn): GELUActivation()\n",
       "          )\n",
       "          (output): ViTOutput(\n",
       "            (dense): Linear(in_features=3072, out_features=768, bias=True)\n",
       "            (dropout): Dropout(p=0.0, inplace=False)\n",
       "          )\n",
       "          (layernorm_before): LayerNorm((768,), eps=1e-12, elementwise_affine=True)\n",
       "          (layernorm_after): LayerNorm((768,), eps=1e-12, elementwise_affine=True)\n",
       "        )\n",
       "        (9): ViTLayer(\n",
       "          (attention): ViTAttention(\n",
       "            (attention): ViTSelfAttention(\n",
       "              (query): Linear(in_features=768, out_features=768, bias=True)\n",
       "              (key): Linear(in_features=768, out_features=768, bias=True)\n",
       "              (value): Linear(in_features=768, out_features=768, bias=True)\n",
       "              (dropout): Dropout(p=0.0, inplace=False)\n",
       "            )\n",
       "            (output): ViTSelfOutput(\n",
       "              (dense): Linear(in_features=768, out_features=768, bias=True)\n",
       "              (dropout): Dropout(p=0.0, inplace=False)\n",
       "            )\n",
       "          )\n",
       "          (intermediate): ViTIntermediate(\n",
       "            (dense): Linear(in_features=768, out_features=3072, bias=True)\n",
       "            (intermediate_act_fn): GELUActivation()\n",
       "          )\n",
       "          (output): ViTOutput(\n",
       "            (dense): Linear(in_features=3072, out_features=768, bias=True)\n",
       "            (dropout): Dropout(p=0.0, inplace=False)\n",
       "          )\n",
       "          (layernorm_before): LayerNorm((768,), eps=1e-12, elementwise_affine=True)\n",
       "          (layernorm_after): LayerNorm((768,), eps=1e-12, elementwise_affine=True)\n",
       "        )\n",
       "        (10): ViTLayer(\n",
       "          (attention): ViTAttention(\n",
       "            (attention): ViTSelfAttention(\n",
       "              (query): Linear(in_features=768, out_features=768, bias=True)\n",
       "              (key): Linear(in_features=768, out_features=768, bias=True)\n",
       "              (value): Linear(in_features=768, out_features=768, bias=True)\n",
       "              (dropout): Dropout(p=0.0, inplace=False)\n",
       "            )\n",
       "            (output): ViTSelfOutput(\n",
       "              (dense): Linear(in_features=768, out_features=768, bias=True)\n",
       "              (dropout): Dropout(p=0.0, inplace=False)\n",
       "            )\n",
       "          )\n",
       "          (intermediate): ViTIntermediate(\n",
       "            (dense): Linear(in_features=768, out_features=3072, bias=True)\n",
       "            (intermediate_act_fn): GELUActivation()\n",
       "          )\n",
       "          (output): ViTOutput(\n",
       "            (dense): Linear(in_features=3072, out_features=768, bias=True)\n",
       "            (dropout): Dropout(p=0.0, inplace=False)\n",
       "          )\n",
       "          (layernorm_before): LayerNorm((768,), eps=1e-12, elementwise_affine=True)\n",
       "          (layernorm_after): LayerNorm((768,), eps=1e-12, elementwise_affine=True)\n",
       "        )\n",
       "        (11): ViTLayer(\n",
       "          (attention): ViTAttention(\n",
       "            (attention): ViTSelfAttention(\n",
       "              (query): Linear(in_features=768, out_features=768, bias=True)\n",
       "              (key): Linear(in_features=768, out_features=768, bias=True)\n",
       "              (value): Linear(in_features=768, out_features=768, bias=True)\n",
       "              (dropout): Dropout(p=0.0, inplace=False)\n",
       "            )\n",
       "            (output): ViTSelfOutput(\n",
       "              (dense): Linear(in_features=768, out_features=768, bias=True)\n",
       "              (dropout): Dropout(p=0.0, inplace=False)\n",
       "            )\n",
       "          )\n",
       "          (intermediate): ViTIntermediate(\n",
       "            (dense): Linear(in_features=768, out_features=3072, bias=True)\n",
       "            (intermediate_act_fn): GELUActivation()\n",
       "          )\n",
       "          (output): ViTOutput(\n",
       "            (dense): Linear(in_features=3072, out_features=768, bias=True)\n",
       "            (dropout): Dropout(p=0.0, inplace=False)\n",
       "          )\n",
       "          (layernorm_before): LayerNorm((768,), eps=1e-12, elementwise_affine=True)\n",
       "          (layernorm_after): LayerNorm((768,), eps=1e-12, elementwise_affine=True)\n",
       "        )\n",
       "      )\n",
       "    )\n",
       "    (layernorm): LayerNorm((768,), eps=1e-12, elementwise_affine=True)\n",
       "  )\n",
       "  (classifier): Linear(in_features=768, out_features=25, bias=True)\n",
       ")"
      ]
     },
     "execution_count": 26,
     "metadata": {},
     "output_type": "execute_result"
    }
   ],
   "source": [
    "from transformers import Trainer\n",
    "\n",
    "trainer = Trainer(\n",
    "    model=model,\n",
    "    args=training_args,\n",
    "    data_collator=collate_fn,\n",
    "    compute_metrics=compute_metrics,\n",
    "    train_dataset=prepared_ds_train,\n",
    "    eval_dataset=prepared_ds_val,\n",
    "    tokenizer=feature_extractor,\n",
    ")\n",
    "torch.cuda.empty_cache()\n",
    "device = torch.device(\"cuda\") if torch.cuda.is_available() else torch.device(\"cpu\")\n",
    "model.to(device)"
   ]
  },
  {
   "cell_type": "code",
   "execution_count": 27,
   "id": "00860fa5",
   "metadata": {},
   "outputs": [
    {
     "name": "stderr",
     "output_type": "stream",
     "text": [
      "C:\\Users\\Skyler\\anaconda3\\lib\\site-packages\\transformers\\optimization.py:306: FutureWarning: This implementation of AdamW is deprecated and will be removed in a future version. Use the PyTorch implementation torch.optim.AdamW instead, or set `no_deprecation_warning=True` to disable this warning\n",
      "  warnings.warn(\n",
      "***** Running training *****\n",
      "  Num examples = 3400\n",
      "  Num Epochs = 4\n",
      "  Instantaneous batch size per device = 16\n",
      "  Total train batch size (w. parallel, distributed & accumulation) = 16\n",
      "  Gradient Accumulation steps = 1\n",
      "  Total optimization steps = 852\n"
     ]
    },
    {
     "data": {
      "text/html": [
       "\n",
       "    <div>\n",
       "      \n",
       "      <progress value='852' max='852' style='width:300px; height:20px; vertical-align: middle;'></progress>\n",
       "      [852/852 05:12, Epoch 4/4]\n",
       "    </div>\n",
       "    <table border=\"1\" class=\"dataframe\">\n",
       "  <thead>\n",
       " <tr style=\"text-align: left;\">\n",
       "      <th>Step</th>\n",
       "      <th>Training Loss</th>\n",
       "      <th>Validation Loss</th>\n",
       "      <th>Accuracy</th>\n",
       "    </tr>\n",
       "  </thead>\n",
       "  <tbody>\n",
       "    <tr>\n",
       "      <td>100</td>\n",
       "      <td>1.348300</td>\n",
       "      <td>1.328301</td>\n",
       "      <td>0.665169</td>\n",
       "    </tr>\n",
       "    <tr>\n",
       "      <td>200</td>\n",
       "      <td>0.735200</td>\n",
       "      <td>0.750799</td>\n",
       "      <td>0.802247</td>\n",
       "    </tr>\n",
       "    <tr>\n",
       "      <td>300</td>\n",
       "      <td>0.454700</td>\n",
       "      <td>0.557616</td>\n",
       "      <td>0.853933</td>\n",
       "    </tr>\n",
       "    <tr>\n",
       "      <td>400</td>\n",
       "      <td>0.395900</td>\n",
       "      <td>0.514424</td>\n",
       "      <td>0.858427</td>\n",
       "    </tr>\n",
       "    <tr>\n",
       "      <td>500</td>\n",
       "      <td>0.223800</td>\n",
       "      <td>0.460915</td>\n",
       "      <td>0.865169</td>\n",
       "    </tr>\n",
       "    <tr>\n",
       "      <td>600</td>\n",
       "      <td>0.130300</td>\n",
       "      <td>0.405648</td>\n",
       "      <td>0.889888</td>\n",
       "    </tr>\n",
       "    <tr>\n",
       "      <td>700</td>\n",
       "      <td>0.111400</td>\n",
       "      <td>0.375384</td>\n",
       "      <td>0.894382</td>\n",
       "    </tr>\n",
       "    <tr>\n",
       "      <td>800</td>\n",
       "      <td>0.093600</td>\n",
       "      <td>0.375999</td>\n",
       "      <td>0.898876</td>\n",
       "    </tr>\n",
       "  </tbody>\n",
       "</table><p>"
      ],
      "text/plain": [
       "<IPython.core.display.HTML object>"
      ]
     },
     "metadata": {},
     "output_type": "display_data"
    },
    {
     "name": "stderr",
     "output_type": "stream",
     "text": [
      "***** Running Evaluation *****\n",
      "  Num examples = 445\n",
      "  Batch size = 8\n",
      "Saving model checkpoint to ./vit-base-beans\\checkpoint-100\n",
      "Configuration saved in ./vit-base-beans\\checkpoint-100\\config.json\n",
      "Model weights saved in ./vit-base-beans\\checkpoint-100\\pytorch_model.bin\n",
      "Feature extractor saved in ./vit-base-beans\\checkpoint-100\\preprocessor_config.json\n",
      "Deleting older checkpoint [vit-base-beans\\checkpoint-700] due to args.save_total_limit\n",
      "***** Running Evaluation *****\n",
      "  Num examples = 445\n",
      "  Batch size = 8\n",
      "Saving model checkpoint to ./vit-base-beans\\checkpoint-200\n",
      "Configuration saved in ./vit-base-beans\\checkpoint-200\\config.json\n",
      "Model weights saved in ./vit-base-beans\\checkpoint-200\\pytorch_model.bin\n",
      "Feature extractor saved in ./vit-base-beans\\checkpoint-200\\preprocessor_config.json\n",
      "Deleting older checkpoint [vit-base-beans\\checkpoint-800] due to args.save_total_limit\n",
      "***** Running Evaluation *****\n",
      "  Num examples = 445\n",
      "  Batch size = 8\n",
      "Saving model checkpoint to ./vit-base-beans\\checkpoint-300\n",
      "Configuration saved in ./vit-base-beans\\checkpoint-300\\config.json\n",
      "Model weights saved in ./vit-base-beans\\checkpoint-300\\pytorch_model.bin\n",
      "Feature extractor saved in ./vit-base-beans\\checkpoint-300\\preprocessor_config.json\n",
      "Deleting older checkpoint [vit-base-beans\\checkpoint-100] due to args.save_total_limit\n",
      "***** Running Evaluation *****\n",
      "  Num examples = 445\n",
      "  Batch size = 8\n",
      "Saving model checkpoint to ./vit-base-beans\\checkpoint-400\n",
      "Configuration saved in ./vit-base-beans\\checkpoint-400\\config.json\n",
      "Model weights saved in ./vit-base-beans\\checkpoint-400\\pytorch_model.bin\n",
      "Feature extractor saved in ./vit-base-beans\\checkpoint-400\\preprocessor_config.json\n",
      "Deleting older checkpoint [vit-base-beans\\checkpoint-200] due to args.save_total_limit\n",
      "***** Running Evaluation *****\n",
      "  Num examples = 445\n",
      "  Batch size = 8\n",
      "Saving model checkpoint to ./vit-base-beans\\checkpoint-500\n",
      "Configuration saved in ./vit-base-beans\\checkpoint-500\\config.json\n",
      "Model weights saved in ./vit-base-beans\\checkpoint-500\\pytorch_model.bin\n",
      "Feature extractor saved in ./vit-base-beans\\checkpoint-500\\preprocessor_config.json\n",
      "Deleting older checkpoint [vit-base-beans\\checkpoint-300] due to args.save_total_limit\n",
      "***** Running Evaluation *****\n",
      "  Num examples = 445\n",
      "  Batch size = 8\n",
      "Saving model checkpoint to ./vit-base-beans\\checkpoint-600\n",
      "Configuration saved in ./vit-base-beans\\checkpoint-600\\config.json\n",
      "Model weights saved in ./vit-base-beans\\checkpoint-600\\pytorch_model.bin\n",
      "Feature extractor saved in ./vit-base-beans\\checkpoint-600\\preprocessor_config.json\n",
      "Deleting older checkpoint [vit-base-beans\\checkpoint-400] due to args.save_total_limit\n",
      "***** Running Evaluation *****\n",
      "  Num examples = 445\n",
      "  Batch size = 8\n",
      "Saving model checkpoint to ./vit-base-beans\\checkpoint-700\n",
      "Configuration saved in ./vit-base-beans\\checkpoint-700\\config.json\n",
      "Model weights saved in ./vit-base-beans\\checkpoint-700\\pytorch_model.bin\n",
      "Feature extractor saved in ./vit-base-beans\\checkpoint-700\\preprocessor_config.json\n",
      "Deleting older checkpoint [vit-base-beans\\checkpoint-500] due to args.save_total_limit\n",
      "***** Running Evaluation *****\n",
      "  Num examples = 445\n",
      "  Batch size = 8\n",
      "Saving model checkpoint to ./vit-base-beans\\checkpoint-800\n",
      "Configuration saved in ./vit-base-beans\\checkpoint-800\\config.json\n",
      "Model weights saved in ./vit-base-beans\\checkpoint-800\\pytorch_model.bin\n",
      "Feature extractor saved in ./vit-base-beans\\checkpoint-800\\preprocessor_config.json\n",
      "Deleting older checkpoint [vit-base-beans\\checkpoint-600] due to args.save_total_limit\n",
      "\n",
      "\n",
      "Training completed. Do not forget to share your model on huggingface.co/models =)\n",
      "\n",
      "\n",
      "Loading best model from ./vit-base-beans\\checkpoint-700 (score: 0.37538376450538635).\n",
      "Saving model checkpoint to ./vit-base-beans\n",
      "Configuration saved in ./vit-base-beans\\config.json\n",
      "Model weights saved in ./vit-base-beans\\pytorch_model.bin\n",
      "Feature extractor saved in ./vit-base-beans\\preprocessor_config.json\n"
     ]
    },
    {
     "name": "stdout",
     "output_type": "stream",
     "text": [
      "***** train metrics *****\n",
      "  epoch                    =         4.0\n",
      "  total_flos               = 981714864GF\n",
      "  train_loss               =      0.5549\n",
      "  train_runtime            =  0:05:18.60\n",
      "  train_samples_per_second =      42.686\n",
      "  train_steps_per_second   =       2.674\n"
     ]
    }
   ],
   "source": [
    "train_results = trainer.train()\n",
    "trainer.save_model()\n",
    "trainer.log_metrics(\"train\", train_results.metrics)\n",
    "trainer.save_metrics(\"train\", train_results.metrics)\n",
    "trainer.save_state()"
   ]
  },
  {
   "cell_type": "code",
   "execution_count": 28,
   "id": "47945853",
   "metadata": {},
   "outputs": [
    {
     "name": "stderr",
     "output_type": "stream",
     "text": [
      "***** Running Evaluation *****\n",
      "  Num examples = 445\n",
      "  Batch size = 8\n"
     ]
    },
    {
     "data": {
      "text/html": [
       "\n",
       "    <div>\n",
       "      \n",
       "      <progress value='56' max='56' style='width:300px; height:20px; vertical-align: middle;'></progress>\n",
       "      [56/56 00:03]\n",
       "    </div>\n",
       "    "
      ],
      "text/plain": [
       "<IPython.core.display.HTML object>"
      ]
     },
     "metadata": {},
     "output_type": "display_data"
    },
    {
     "name": "stdout",
     "output_type": "stream",
     "text": [
      "***** eval metrics *****\n",
      "  epoch                   =        4.0\n",
      "  eval_accuracy           =     0.8944\n",
      "  eval_loss               =     0.3754\n",
      "  eval_runtime            = 0:00:03.97\n",
      "  eval_samples_per_second =    112.049\n",
      "  eval_steps_per_second   =     14.101\n"
     ]
    }
   ],
   "source": [
    "metrics = trainer.evaluate(prepared_ds_val)\n",
    "trainer.log_metrics(\"eval\", metrics)\n",
    "trainer.save_metrics(\"eval\", metrics)"
   ]
  },
  {
   "cell_type": "code",
   "execution_count": null,
   "id": "29a8db2c",
   "metadata": {},
   "outputs": [],
   "source": []
  }
 ],
 "metadata": {
  "kernelspec": {
   "display_name": "Python 3 (ipykernel)",
   "language": "python",
   "name": "python3"
  },
  "language_info": {
   "codemirror_mode": {
    "name": "ipython",
    "version": 3
   },
   "file_extension": ".py",
   "mimetype": "text/x-python",
   "name": "python",
   "nbconvert_exporter": "python",
   "pygments_lexer": "ipython3",
   "version": "3.9.7"
  }
 },
 "nbformat": 4,
 "nbformat_minor": 5
}
