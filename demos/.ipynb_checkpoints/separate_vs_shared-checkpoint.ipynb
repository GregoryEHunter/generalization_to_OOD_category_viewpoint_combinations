{
 "cells": [
  {
   "cell_type": "code",
   "execution_count": 81,
   "id": "hairy-growing",
   "metadata": {},
   "outputs": [],
   "source": [
    "from __future__ import print_function, division\n",
    "import torch\n",
    "import torch.nn as nn\n",
    "import torch.optim as optim\n",
    "from torch.autograd import Variable\n",
    "import numpy as np\n",
    "import torchvision\n",
    "from torchvision import datasets, models, transforms\n",
    "import matplotlib.pyplot as plt\n",
    "import time\n",
    "import copy\n",
    "import os\n",
    "from PIL import ImageFile\n",
    "import random\n",
    "ImageFile.LOAD_TRUNCATED_IMAGES = True\n",
    "import argparse\n",
    "import pickle\n",
    "import sys\n",
    "sys.path.append('../res/')\n",
    "from models.models import get_model\n",
    "from loader.loader import get_loader"
   ]
  },
  {
   "cell_type": "code",
   "execution_count": 95,
   "id": "european-influence",
   "metadata": {},
   "outputs": [
    {
     "data": {
      "text/plain": [
       "<Figure size 432x288 with 0 Axes>"
      ]
     },
     "metadata": {},
     "output_type": "display_data"
    }
   ],
   "source": [
    "from tqdm import tqdm\n",
    "from IPython.display import clear_output\n",
    "import matplotlib.pyplot as plt\n",
    "import seaborn as sns\n",
    "sns.set_context(\"poster\")\n",
    "sns.set_palette(\"Set1\", 8, .75)\n",
    "sns.despine()"
   ]
  },
  {
   "cell_type": "code",
   "execution_count": 83,
   "id": "suspected-fever",
   "metadata": {},
   "outputs": [],
   "source": [
    "DATASET_NAME = 'mnist_rotation_six_by_nine'\n",
    "NUM_EPOCHS = 10\n",
    "BATCH_SIZE = 200\n",
    "ARCH = 'LATE_BRANCHING_COMBINED'\n",
    "\n",
    "# SAVE_FILE = 'logs/%s_%s_%s_%s_%s_%s.out'%(train_file_name, ARCH, DATASET_NAME, NUM_EPOCHS, BATCH_SIZE, SAVE_FILE_SUFFIX)\n",
    "\n",
    "# SAVE_HANDLER = open(SAVE_FILE, 'w')\n",
    "\n",
    "# print(args, file=SAVE_HANDLER, flush=True)\n",
    "# sys.stdout.flush()\n",
    "\n",
    "if 'uiuc' in DATASET_NAME:\n",
    "    image_transform = transforms.Compose([\n",
    "        transforms.Resize((224,224)),\n",
    "        transforms.ToTensor(),\n",
    "        transforms.Normalize([0.485, 0.456, 0.406], [0.229, 0.224, 0.225])\n",
    "    ])\n",
    "elif 'mnist_rotation' in DATASET_NAME:\n",
    "    image_transform=transforms.Compose([\n",
    "        transforms.ToTensor(),\n",
    "        transforms.Normalize((0.1307,), (0.3081,))\n",
    "    ])\n",
    "\n",
    "GPU = 1"
   ]
  },
  {
   "cell_type": "code",
   "execution_count": 84,
   "id": "assigned-possession",
   "metadata": {},
   "outputs": [],
   "source": [
    "curr_dir = os.getcwd()\n",
    "repo_dir = '/'.join(curr_dir.split('/')[:-1])\n",
    "data_dir = \"%s/data/\"%repo_dir"
   ]
  },
  {
   "cell_type": "code",
   "execution_count": 85,
   "id": "judicial-simpson",
   "metadata": {
    "tags": []
   },
   "outputs": [],
   "source": [
    "if 'ilab' in DATASET_NAME:\n",
    "    NUM_CLASSES = (6,6,6,6)\n",
    "elif 'uiuc' in DATASET_NAME:\n",
    "    NUM_CLASSES = (8,8,8,8)\n",
    "elif 'mnist_rotation' in DATASET_NAME:\n",
    "    NUM_CLASSES = (10,10,10,10)\n",
    "else:\n",
    "    NUM_CLASSES = (5,5,4,5)\n",
    "\n",
    "\n",
    "model = get_model(ARCH,NUM_CLASSES)\n",
    "model.cuda();\n",
    "\n",
    "if 'ilab' in DATASET_NAME:\n",
    "    loader_new = get_loader('multi_attribute_loader_file_list_ilab')\n",
    "elif 'uiuc' in DATASET_NAME:\n",
    "    loader_new = get_loader('multi_attribute_loader_file_list_uiuc')\n",
    "elif 'mnist_rotation' in DATASET_NAME:\n",
    "    loader_new = get_loader('multi_attribute_loader_file_list_mnist_rotation')\n",
    "else:\n",
    "    loader_new = get_loader('multi_attribute_loader_file_list')\n",
    "\n",
    "file_list_root = '../dataset_lists/'\n",
    "att_path = '../dataset_lists/combined_attributes.p'\n",
    "# loader_new = get_loader('multi_attribute_loader_file_list_ilab')"
   ]
  },
  {
   "cell_type": "code",
   "execution_count": 86,
   "id": "blind-classroom",
   "metadata": {},
   "outputs": [],
   "source": [
    "shuffles = {'train':True,'val':True,'test':False}"
   ]
  },
  {
   "cell_type": "code",
   "execution_count": 87,
   "id": "through-competition",
   "metadata": {},
   "outputs": [],
   "source": [
    "################ GET FROM USER CONFIG - TODO #####################\n",
    "file_lists = {}\n",
    "dsets = {}\n",
    "dset_loaders = {}\n",
    "dset_sizes = {}\n",
    "for phase in ['train','val','test']:\n",
    "    file_lists[phase] = \"%s/%s_list_%s.txt\"%(file_list_root,phase,DATASET_NAME)\n",
    "    dsets[phase] = loader_new(file_lists[phase],att_path, image_transform, data_dir)\n",
    "    dset_loaders[phase] = torch.utils.data.DataLoader(dsets[phase], batch_size=BATCH_SIZE, shuffle = shuffles[phase], num_workers=2,drop_last=True)\n",
    "    dset_sizes[phase] = len(dsets[phase])"
   ]
  },
  {
   "cell_type": "code",
   "execution_count": 88,
   "id": "thorough-collector",
   "metadata": {},
   "outputs": [],
   "source": [
    "optimizer = optim.Adam(model.parameters(), lr=0.001)"
   ]
  },
  {
   "cell_type": "code",
   "execution_count": 89,
   "id": "wrong-allowance",
   "metadata": {},
   "outputs": [],
   "source": [
    "multi_losses = [nn.CrossEntropyLoss(),nn.CrossEntropyLoss(),nn.CrossEntropyLoss(),nn.CrossEntropyLoss()]"
   ]
  },
  {
   "cell_type": "code",
   "execution_count": 90,
   "id": "killing-cause",
   "metadata": {},
   "outputs": [],
   "source": [
    "def weight_scheduler(epoch_num):\n",
    "    return [0.0,1.0,0.0,1.0]\n",
    "\n",
    "best_model = model\n",
    "best_model_gm = model\n",
    "best_acc = 0.0\n",
    "\n",
    "losses = {}\n",
    "accuracies = {}\n",
    "\n",
    "losses['train'] = []\n",
    "losses['val'] = []\n",
    "\n",
    "accuracies['train'] = []\n",
    "accuracies['val'] = []\n",
    "\n",
    "best_val_loss = 100"
   ]
  },
  {
   "cell_type": "code",
   "execution_count": 91,
   "id": "civil-bleeding",
   "metadata": {},
   "outputs": [],
   "source": [
    "def train_epoch(model):\n",
    "    model.train()\n",
    "    torch.set_grad_enabled(True)\n",
    "    phase = 'train'\n",
    "    \n",
    "    weights = weight_scheduler(epoch)\n",
    "    iters = 0\n",
    "    phase_epoch_corrects = [0,0,0,0]\n",
    "    phase_epoch_loss = 0\n",
    "    \n",
    "    for data in tqdm(dset_loaders[phase]):\n",
    "        inputs, labels_all, paths = data\n",
    "        inputs = Variable(inputs.float().cuda())\n",
    "\n",
    "        optimizer.zero_grad()\n",
    "        model_outs = model(inputs)\n",
    "        calculated_loss = 0\n",
    "        batch_corrects = [0,0,0,0]\n",
    "        \n",
    "        for i in range(4):\n",
    "            labels = labels_all[:,i]\n",
    "            if GPU:\n",
    "                labels = Variable(labels.long().cuda())\n",
    "            loss = multi_losses[i]\n",
    "            outputs = model_outs[i]\n",
    "            calculated_loss += weights[i] * loss(outputs,labels)\n",
    "            _, preds = torch.max(outputs.data, 1)\n",
    "            batch_corrects[i] = torch.sum(preds == labels.data)\n",
    "            phase_epoch_corrects[i] += batch_corrects[i]\n",
    "\n",
    "        \n",
    "        phase_epoch_loss += calculated_loss\n",
    "        calculated_loss.backward()\n",
    "        optimizer.step()\n",
    "        iters += 1\n",
    "    epoch_loss = phase_epoch_loss/dset_sizes[phase]\n",
    "    print('Train loss:%s'%epoch_loss)\n",
    "    epoch_accs = [float(i)/dset_sizes[phase] for i in phase_epoch_corrects]\n",
    "    epoch_gm = np.sqrt(epoch_accs[1] * epoch_accs[3])\n",
    "    \n",
    "    return model, epoch_loss, epoch_gm"
   ]
  },
  {
   "cell_type": "code",
   "execution_count": 92,
   "id": "protecting-majority",
   "metadata": {},
   "outputs": [],
   "source": [
    "def test_epoch(model, best_model, best_test_loss, best_test_gm):\n",
    "    model.eval()\n",
    "    torch.set_grad_enabled(False)\n",
    "    phase = 'test'\n",
    "    weights = weight_scheduler(epoch)\n",
    "    iters = 0\n",
    "    phase_epoch_corrects = [0,0,0,0]\n",
    "    phase_epoch_loss = 0\n",
    "    \n",
    "    for data in tqdm(dset_loaders[phase]):\n",
    "        inputs, labels_all, paths = data\n",
    "        inputs = Variable(inputs.float().cuda())\n",
    "        model_outs = model(inputs)\n",
    "        calculated_loss = 0\n",
    "        batch_corrects = [0,0,0,0]\n",
    "        \n",
    "        for i in range(4):\n",
    "            labels = labels_all[:,i]\n",
    "            if GPU:\n",
    "                labels = Variable(labels.long().cuda())\n",
    "            loss = multi_losses[i]\n",
    "            outputs = model_outs[i]\n",
    "            calculated_loss += weights[i] * loss(outputs,labels)\n",
    "            _, preds = torch.max(outputs.data, 1)\n",
    "            batch_corrects[i] = torch.sum(preds == labels.data)\n",
    "            phase_epoch_corrects[i] += batch_corrects[i]\n",
    "\n",
    "\n",
    "        phase_epoch_loss += calculated_loss\n",
    "        iters += 1\n",
    "    epoch_loss = phase_epoch_loss/dset_sizes[phase]\n",
    "    print('Test loss:%s'%epoch_loss)\n",
    "    epoch_accs = [float(i)/dset_sizes[phase] for i in phase_epoch_corrects]\n",
    "    epoch_gm = np.sqrt(epoch_accs[1] * epoch_accs[3])\n",
    "    \n",
    "    if epoch_loss < best_test_loss:\n",
    "        best_model = model\n",
    "        best_test_loss = epoch_loss\n",
    "        best_test_gm = epoch_gm\n",
    "    \n",
    "    return best_model, epoch_loss, epoch_gm, best_test_loss, best_test_gm"
   ]
  },
  {
   "cell_type": "code",
   "execution_count": 93,
   "id": "twenty-expression",
   "metadata": {},
   "outputs": [
    {
     "name": "stdout",
     "output_type": "stream",
     "text": [
      "Epoch: 4\n",
      "---------\n"
     ]
    },
    {
     "data": {
      "image/png": "[encoded data removed]",
      "text/plain": [
       "<Figure size 432x288 with 1 Axes>"
      ]
     },
     "metadata": {
      "needs_background": "light"
     },
     "output_type": "display_data"
    },
    {
     "data": {
      "image/png": "[encoded data removed]",
      "text/plain": [
       "<Figure size 432x288 with 1 Axes>"
      ]
     },
     "metadata": {
      "needs_background": "light"
     },
     "output_type": "display_data"
    },
    {
     "name": "stderr",
     "output_type": "stream",
     "text": [
      "  0%|          | 0/250 [00:00<?, ?it/s]"
     ]
    },
    {
     "name": "stdout",
     "output_type": "stream",
     "text": [
      "Epoch: 5\n",
      "---------\n"
     ]
    },
    {
     "name": "stderr",
     "output_type": "stream",
     "text": [
      "  6%|▌         | 14/250 [00:06<01:54,  2.07it/s]Process Process-68:\n",
      "Traceback (most recent call last):\n",
      "  File \"/om5/user/smadan/miniconda3/envs/diff_rendering_ml/lib/python3.8/multiprocessing/process.py\", line 318, in _bootstrap\n",
      "    util._exit_function()\n",
      "  File \"/om5/user/smadan/miniconda3/envs/diff_rendering_ml/lib/python3.8/multiprocessing/util.py\", line 360, in _exit_function\n",
      "    _run_finalizers()\n",
      "  File \"/om5/user/smadan/miniconda3/envs/diff_rendering_ml/lib/python3.8/multiprocessing/util.py\", line 300, in _run_finalizers\n",
      "    finalizer()\n",
      "  File \"/om5/user/smadan/miniconda3/envs/diff_rendering_ml/lib/python3.8/multiprocessing/util.py\", line 224, in __call__\n",
      "    res = self._callback(*self._args, **self._kwargs)\n",
      "  File \"/om5/user/smadan/miniconda3/envs/diff_rendering_ml/lib/python3.8/multiprocessing/queues.py\", line 195, in _finalize_join\n",
      "    thread.join()\n",
      "  File \"/om5/user/smadan/miniconda3/envs/diff_rendering_ml/lib/python3.8/threading.py\", line 1011, in join\n",
      "    self._wait_for_tstate_lock()\n",
      "  File \"/om5/user/smadan/miniconda3/envs/diff_rendering_ml/lib/python3.8/threading.py\", line 1027, in _wait_for_tstate_lock\n",
      "    elif lock.acquire(block, timeout):\n",
      "KeyboardInterrupt\n",
      "Exception ignored in: <function _MultiProcessingDataLoaderIter.__del__ at 0x2b4ba4bf6af0>\n",
      "Traceback (most recent call last):\n",
      "  File \"/om5/user/smadan/miniconda3/envs/diff_rendering_ml/lib/python3.8/site-packages/torch/utils/data/dataloader.py\", line 1203, in __del__\n",
      "    self._shutdown_workers()\n",
      "  File \"/om5/user/smadan/miniconda3/envs/diff_rendering_ml/lib/python3.8/site-packages/torch/utils/data/dataloader.py\", line 1177, in _shutdown_workers\n",
      "    w.join(timeout=_utils.MP_STATUS_CHECK_INTERVAL)\n",
      "  File \"/om5/user/smadan/miniconda3/envs/diff_rendering_ml/lib/python3.8/multiprocessing/process.py\", line 149, in join\n",
      "    res = self._popen.wait(timeout)\n",
      "  File \"/om5/user/smadan/miniconda3/envs/diff_rendering_ml/lib/python3.8/multiprocessing/popen_fork.py\", line 44, in wait\n",
      "    if not wait([self.sentinel], timeout):\n",
      "  File \"/om5/user/smadan/miniconda3/envs/diff_rendering_ml/lib/python3.8/multiprocessing/connection.py\", line 931, in wait\n",
      "    ready = selector.select(timeout)\n",
      "  File \"/om5/user/smadan/miniconda3/envs/diff_rendering_ml/lib/python3.8/selectors.py\", line 415, in select\n",
      "    fd_event_list = self._selector.poll(timeout)\n",
      "KeyboardInterrupt: \n",
      "  6%|▌         | 14/250 [00:10<03:00,  1.31it/s]\n"
     ]
    },
    {
     "ename": "KeyboardInterrupt",
     "evalue": "",
     "output_type": "error",
     "traceback": [
      "\u001b[0;31m---------------------------------------------------------------------------\u001b[0m",
      "\u001b[0;31mKeyboardInterrupt\u001b[0m                         Traceback (most recent call last)",
      "\u001b[0;32m<ipython-input-93-7d282966f5a3>\u001b[0m in \u001b[0;36m<module>\u001b[0;34m\u001b[0m\n\u001b[1;32m      9\u001b[0m     \u001b[0mprint\u001b[0m\u001b[0;34m(\u001b[0m\u001b[0;34m'Epoch: %s'\u001b[0m\u001b[0;34m%\u001b[0m\u001b[0mepoch\u001b[0m\u001b[0;34m)\u001b[0m\u001b[0;34m\u001b[0m\u001b[0;34m\u001b[0m\u001b[0m\n\u001b[1;32m     10\u001b[0m     \u001b[0mprint\u001b[0m\u001b[0;34m(\u001b[0m\u001b[0;34m'---------'\u001b[0m\u001b[0;34m)\u001b[0m\u001b[0;34m\u001b[0m\u001b[0;34m\u001b[0m\u001b[0m\n\u001b[0;32m---> 11\u001b[0;31m     \u001b[0mmodel\u001b[0m\u001b[0;34m,\u001b[0m \u001b[0mtrain_loss\u001b[0m\u001b[0;34m,\u001b[0m \u001b[0mtrain_gm\u001b[0m \u001b[0;34m=\u001b[0m \u001b[0mtrain_epoch\u001b[0m\u001b[0;34m(\u001b[0m\u001b[0mmodel\u001b[0m\u001b[0;34m)\u001b[0m\u001b[0;34m\u001b[0m\u001b[0;34m\u001b[0m\u001b[0m\n\u001b[0m\u001b[1;32m     12\u001b[0m     \u001b[0mbest_model\u001b[0m\u001b[0;34m,\u001b[0m \u001b[0mtest_loss\u001b[0m\u001b[0;34m,\u001b[0m \u001b[0mtest_gm\u001b[0m\u001b[0;34m,\u001b[0m \u001b[0mbest_test_loss\u001b[0m\u001b[0;34m,\u001b[0m \u001b[0mbest_test_gm\u001b[0m \u001b[0;34m=\u001b[0m \u001b[0mtest_epoch\u001b[0m\u001b[0;34m(\u001b[0m\u001b[0mmodel\u001b[0m\u001b[0;34m,\u001b[0m \u001b[0mbest_model\u001b[0m\u001b[0;34m,\u001b[0m \u001b[0mbest_test_loss\u001b[0m\u001b[0;34m,\u001b[0m \u001b[0mbest_test_gm\u001b[0m\u001b[0;34m)\u001b[0m\u001b[0;34m\u001b[0m\u001b[0;34m\u001b[0m\u001b[0m\n\u001b[1;32m     13\u001b[0m     \u001b[0mall_train_gms\u001b[0m\u001b[0;34m.\u001b[0m\u001b[0mappend\u001b[0m\u001b[0;34m(\u001b[0m\u001b[0mtrain_gm\u001b[0m\u001b[0;34m)\u001b[0m\u001b[0;34m\u001b[0m\u001b[0;34m\u001b[0m\u001b[0m\n",
      "\u001b[0;32m<ipython-input-91-cbf3c35a7833>\u001b[0m in \u001b[0;36mtrain_epoch\u001b[0;34m(model)\u001b[0m\n\u001b[1;32m     11\u001b[0m     \u001b[0;32mfor\u001b[0m \u001b[0mdata\u001b[0m \u001b[0;32min\u001b[0m \u001b[0mtqdm\u001b[0m\u001b[0;34m(\u001b[0m\u001b[0mdset_loaders\u001b[0m\u001b[0;34m[\u001b[0m\u001b[0mphase\u001b[0m\u001b[0;34m]\u001b[0m\u001b[0;34m)\u001b[0m\u001b[0;34m:\u001b[0m\u001b[0;34m\u001b[0m\u001b[0;34m\u001b[0m\u001b[0m\n\u001b[1;32m     12\u001b[0m         \u001b[0minputs\u001b[0m\u001b[0;34m,\u001b[0m \u001b[0mlabels_all\u001b[0m\u001b[0;34m,\u001b[0m \u001b[0mpaths\u001b[0m \u001b[0;34m=\u001b[0m \u001b[0mdata\u001b[0m\u001b[0;34m\u001b[0m\u001b[0;34m\u001b[0m\u001b[0m\n\u001b[0;32m---> 13\u001b[0;31m         \u001b[0minputs\u001b[0m \u001b[0;34m=\u001b[0m \u001b[0mVariable\u001b[0m\u001b[0;34m(\u001b[0m\u001b[0minputs\u001b[0m\u001b[0;34m.\u001b[0m\u001b[0mfloat\u001b[0m\u001b[0;34m(\u001b[0m\u001b[0;34m)\u001b[0m\u001b[0;34m.\u001b[0m\u001b[0mcuda\u001b[0m\u001b[0;34m(\u001b[0m\u001b[0;34m)\u001b[0m\u001b[0;34m)\u001b[0m\u001b[0;34m\u001b[0m\u001b[0;34m\u001b[0m\u001b[0m\n\u001b[0m\u001b[1;32m     14\u001b[0m \u001b[0;34m\u001b[0m\u001b[0m\n\u001b[1;32m     15\u001b[0m         \u001b[0moptimizer\u001b[0m\u001b[0;34m.\u001b[0m\u001b[0mzero_grad\u001b[0m\u001b[0;34m(\u001b[0m\u001b[0;34m)\u001b[0m\u001b[0;34m\u001b[0m\u001b[0;34m\u001b[0m\u001b[0m\n",
      "\u001b[0;31mKeyboardInterrupt\u001b[0m: "
     ]
    }
   ],
   "source": [
    "best_model = model\n",
    "best_test_loss = 100\n",
    "best_test_gm = 0\n",
    "\n",
    "all_train_gms = [0]\n",
    "all_test_gms = [0]\n",
    "\n",
    "for epoch in range(10):\n",
    "    print('Epoch: %s'%epoch)\n",
    "    print('---------')\n",
    "    model, train_loss, train_gm = train_epoch(model)\n",
    "    best_model, test_loss, test_gm, best_test_loss, best_test_gm = test_epoch(model, best_model, best_test_loss, best_test_gm)\n",
    "    all_train_gms.append(train_gm)\n",
    "    all_test_gms.append(test_gm)\n",
    "    clear_output()\n",
    "    print('Epoch: %s'%epoch)\n",
    "    print('---------')\n",
    "    plt.plot(all_train_gms, color = 'brown', marker = 'o')\n",
    "    plt.title('Train Performance')\n",
    "    plt.show()\n",
    "    plt.plot(all_test_gms, color = 'blue', marker = 'o')\n",
    "    plt.title('Test Performance')\n",
    "    plt.show()"
   ]
  }
 ],
 "metadata": {
  "kernelspec": {
   "display_name": "diff_rendering_ml",
   "language": "python",
   "name": "diff_rendering_ml"
  },
  "language_info": {
   "codemirror_mode": {
    "name": "ipython",
    "version": 3
   },
   "file_extension": ".py",
   "mimetype": "text/x-python",
   "name": "python",
   "nbconvert_exporter": "python",
   "pygments_lexer": "ipython3",
   "version": "3.8.5"
  }
 },
 "nbformat": 4,
 "nbformat_minor": 5
}
