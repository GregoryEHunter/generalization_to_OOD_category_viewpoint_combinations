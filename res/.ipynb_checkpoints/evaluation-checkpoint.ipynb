{
 "cells": [
  {
   "cell_type": "code",
   "execution_count": 1,
   "metadata": {},
   "outputs": [],
   "source": [
    "from __future__ import print_function, division\n",
    "import pickle\n",
    "import torch\n",
    "import sys\n",
    "# sys.path.append('../../res/')\n",
    "from loader import synthetic_loader\n",
    "# from loader import city_scapes_loader\n",
    "import torch\n",
    "import torch.nn as nn\n",
    "import torch.optim as optim\n",
    "from torch.autograd import Variable\n",
    "import numpy as np\n",
    "import torchvision\n",
    "from torchvision import datasets, models, transforms\n",
    "import matplotlib.pyplot as plt\n",
    "import time\n",
    "import copy\n",
    "import os\n",
    "from PIL import ImageFile\n",
    "ImageFile.LOAD_TRUNCATED_IMAGES = True\n",
    "import pickle\n",
    "import sys\n",
    "from PIL import Image\n",
    "import torch.nn.functional as F\n",
    "import math"
   ]
  },
  {
   "cell_type": "code",
   "execution_count": 2,
   "metadata": {},
   "outputs": [],
   "source": [
    "from model import Unet\n",
    "from model import FCN\n",
    "from config_file import *"
   ]
  },
  {
   "cell_type": "code",
   "execution_count": 3,
   "metadata": {},
   "outputs": [],
   "source": [
    "BATCH_SIZE = 2"
   ]
  },
  {
   "cell_type": "code",
   "execution_count": 4,
   "metadata": {},
   "outputs": [],
   "source": [
    "CITYSCAPES = False\n",
    "# TRAIN_DIR = '/data/graphics/'\n",
    "VAL_DIR = '/data/graphics/toyota-pytorch/biased_dataset_generalization/datasets/test-set/val/'"
   ]
  },
  {
   "cell_type": "code",
   "execution_count": 5,
   "metadata": {},
   "outputs": [],
   "source": [
    "data_transforms = {\n",
    "    'train': transforms.Compose([\n",
    "        transforms.Resize(IN_SIZE),\n",
    "        transforms.ToTensor(),\n",
    "        transforms.Normalize([0.485, 0.456, 0.406], [0.229, 0.224, 0.225])\n",
    "    ]),\n",
    "    'val': transforms.Compose([\n",
    "        transforms.Resize(IN_SIZE),\n",
    "        transforms.ToTensor(),\n",
    "        transforms.Normalize([0.485, 0.456, 0.406], [0.229, 0.224, 0.225])\n",
    "   ])\n",
    "}\n",
    "\n",
    "label_transforms = {\n",
    "    'train': transforms.Compose([\n",
    "        transforms.Resize(IN_SIZE),\n",
    "        transforms.ToTensor()\n",
    "    ]),\n",
    "    'val': transforms.Compose([\n",
    "        transforms.Resize(IN_SIZE),\n",
    "        transforms.ToTensor()\n",
    "   ])\n",
    "}\n",
    "\n",
    "if CITYSCAPES:\n",
    "#     dset_train = city_scapes_loader.ImageFolder(TRAIN_DIR, data_transforms['train'])\n",
    "    dset_val = city_scapes_loader.ImageFolder(VAL_DIR, data_transforms['val'])\n",
    "else:\n",
    "#     dset_train = synthetic_loader.ImageFolder(TRAIN_DIR, data_transforms['train'],target_transform=label_transforms['train'])\n",
    "    dset_val = synthetic_loader.ImageFolder(VAL_DIR, data_transforms['val'],target_transform=label_transforms['val'])"
   ]
  },
  {
   "cell_type": "code",
   "execution_count": 6,
   "metadata": {},
   "outputs": [],
   "source": [
    "# train_loader = torch.utils.data.DataLoader(dset_train, batch_size=BATCH_SIZE, shuffle=True, num_workers=2)\n",
    "val_loader = torch.utils.data.DataLoader(dset_val, batch_size=BATCH_SIZE, shuffle=True, num_workers=2)\n",
    "\n",
    "dset_loaders = {'val':val_loader}\n",
    "dset_sizes = {}\n",
    "# dset_sizes['train'] = len(dset_train)\n",
    "dset_sizes['val'] = len(dset_val)"
   ]
  },
  {
   "cell_type": "code",
   "execution_count": 58,
   "metadata": {},
   "outputs": [],
   "source": [
    "def batch_iou_sum(labels, predictions):\n",
    "    iou_sum = 0\n",
    "    for i in range(len(labels)):\n",
    "        iou_sum += binary_iou(labels[i],predictions[i])\n",
    "    return iou_sum\n",
    "\n",
    "def batch_ppa_sum(labels, predictions):\n",
    "    ppa_sum = 0\n",
    "    for i in range(len(labels)):\n",
    "        ppa_sum += per_pixel_acc(labels[i],predictions[i])\n",
    "    return ppa_sum\n",
    "\n",
    "def binary_iou(l,p):\n",
    "    label = l.cpu().numpy().astype(int)\n",
    "    pred = p.detach().cpu().numpy().astype(int)\n",
    "    intersection = np.sum(np.bitwise_and(label,pred))\n",
    "    union = np.sum(np.bitwise_or(label,pred))\n",
    "    if union == 0:\n",
    "        return 0\n",
    "    else:\n",
    "        return intersection/union\n",
    "\n",
    "\n",
    "def per_pixel_acc(l,p):\n",
    "    label = l.cpu().numpy().astype(int)\n",
    "    pred = p.detach().cpu().numpy().astype(int)\n",
    "    h,w = label.shape\n",
    "    intersection = np.sum(np.bitwise_xor(label,pred))\n",
    "    return ((h*w) - intersection)/(h*w)"
   ]
  },
  {
   "cell_type": "code",
   "execution_count": null,
   "metadata": {},
   "outputs": [],
   "source": [
    "def show_results(model_path,GPU=False):\n",
    "    total_iou = 0\n",
    "    total_ppa = 0\n",
    "    count = 0\n",
    "    \n",
    "    if GPU == False:\n",
    "        model = torch.load(model_path,map_location='cpu')\n",
    "        model.cpu();\n",
    "    else:\n",
    "        model = torch.load(model_path)\n",
    "    \n",
    "    for data in dset_loaders['val']:\n",
    "        inputs, labels = data\n",
    "        if GPU == False:\n",
    "            outputs = model(inputs)\n",
    "        else:\n",
    "            outputs = model(inputs.cuda())\n",
    "            \n",
    "        predictions = torch.argmax(outputs,dim=1)\n",
    "  \n",
    "        batch_iou = batch_iou_sum(labels,predictions)\n",
    "        batch_ppa = batch_ppa_sum(labels,predictions)\n",
    "        if math.isnan(batch_iou):\n",
    "            break\n",
    "        if math.isnan(batch_ppa):\n",
    "            break\n",
    "        else:\n",
    "            total_iou += batch_iou\n",
    "            total_ppa += batch_ppa\n",
    "            count += len(labels)\n",
    "    \n",
    "    average_ppa = total_ppa/count\n",
    "    average_iou = total_iou/count\n",
    "    \n",
    "    return average_iou, average_ppa"
   ]
  },
  {
   "cell_type": "code",
   "execution_count": 59,
   "metadata": {},
   "outputs": [],
   "source": [
    "def evaluate_model(model_path,GPU=False):\n",
    "    total_iou = 0\n",
    "    total_ppa = 0\n",
    "    count = 0\n",
    "    \n",
    "    if GPU == False:\n",
    "        model = torch.load(model_path,map_location='cpu')\n",
    "        model.cpu();\n",
    "    else:\n",
    "        model = torch.load(model_path)\n",
    "    \n",
    "    for data in dset_loaders['val']:\n",
    "        inputs, labels = data\n",
    "        if GPU == False:\n",
    "            outputs = model(inputs)\n",
    "        else:\n",
    "            outputs = model(inputs.cuda())\n",
    "            \n",
    "        predictions = torch.argmax(outputs,dim=1)\n",
    "  \n",
    "        batch_iou = batch_iou_sum(labels,predictions)\n",
    "        batch_ppa = batch_ppa_sum(labels,predictions)\n",
    "        if math.isnan(batch_iou):\n",
    "            break\n",
    "        if math.isnan(batch_ppa):\n",
    "            break\n",
    "        else:\n",
    "            total_iou += batch_iou\n",
    "            total_ppa += batch_ppa\n",
    "            count += len(labels)\n",
    "    \n",
    "    average_ppa = total_ppa/count\n",
    "    average_iou = total_iou/count\n",
    "    \n",
    "    return average_iou, average_ppa"
   ]
  },
  {
   "cell_type": "code",
   "execution_count": 62,
   "metadata": {},
   "outputs": [],
   "source": [
    "trained_models = {1:'../runs/2018-10-30_B6T5J8CG/saved_models/B6T5J8CG.pt',10:'../runs/2018-10-30_O1B5C4OH/saved_models/O1B5C4OH.pt',100:'../runs/2018-10-31_RM4WZDIP/saved_models/RM4WZDIP.pt'}"
   ]
  },
  {
   "cell_type": "code",
   "execution_count": 63,
   "metadata": {},
   "outputs": [],
   "source": [
    "GPU = True"
   ]
  },
  {
   "cell_type": "code",
   "execution_count": 66,
   "metadata": {},
   "outputs": [
    {
     "name": "stdout",
     "output_type": "stream",
     "text": [
      "working on 1 car models\n",
      "Average IOU for 1 models: 0.9133133699749318\n",
      "Average PPA for 1 models: 0.9844828603316327\n",
      "working on 10 car models\n",
      "Average IOU for 10 models: 0.9453719841454518\n",
      "Average PPA for 10 models: 0.9903357382015302\n",
      "working on 100 car models\n",
      "Average IOU for 100 models: 0.9543882973946302\n",
      "Average PPA for 100 models: 0.9914174107142856\n"
     ]
    }
   ],
   "source": [
    "ious = {}\n",
    "ppas = {}\n",
    "for num in trained_models.keys():\n",
    "    print('working on %s car models'%num)\n",
    "    path = trained_models[num]\n",
    "    iou,ppa = evaluate_model(path,GPU=True)\n",
    "    print('Average IOU for %s models:'%num,iou)\n",
    "    print('Average PPA for %s models:'%num,ppa)\n",
    "    ious[num] = iou\n",
    "    ppas[num] = ppa"
   ]
  },
  {
   "cell_type": "markdown",
   "metadata": {},
   "source": [
    "# Visualize random results"
   ]
  },
  {
   "cell_type": "code",
   "execution_count": null,
   "metadata": {},
   "outputs": [],
   "source": []
  }
 ],
 "metadata": {
  "kernelspec": {
   "display_name": "torch_tens",
   "language": "python",
   "name": "torch_tens"
  },
  "language_info": {
   "codemirror_mode": {
    "name": "ipython",
    "version": 3
   },
   "file_extension": ".py",
   "mimetype": "text/x-python",
   "name": "python",
   "nbconvert_exporter": "python",
   "pygments_lexer": "ipython3",
   "version": "3.6.6"
  }
 },
 "nbformat": 4,
 "nbformat_minor": 2
}
