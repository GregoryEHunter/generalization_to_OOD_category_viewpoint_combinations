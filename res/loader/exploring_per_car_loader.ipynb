{
 "cells": [
  {
   "cell_type": "code",
   "execution_count": 1,
   "metadata": {},
   "outputs": [],
   "source": [
    "import pickle"
   ]
  },
  {
   "cell_type": "code",
   "execution_count": 2,
   "metadata": {},
   "outputs": [],
   "source": [
    "dict_1 = {\"building\": 60, \"curb\": 59, \"humans\": 11, \"road\": 58, \"sidewalk\": 57, \"sky\": 6, \"trees\": 16, \"unknown\": 31, \"vegetation\": 56}"
   ]
  },
  {
   "cell_type": "code",
   "execution_count": 3,
   "metadata": {},
   "outputs": [
    {
     "data": {
      "text/plain": [
       "{'building': 60,\n",
       " 'curb': 59,\n",
       " 'humans': 11,\n",
       " 'road': 58,\n",
       " 'sidewalk': 57,\n",
       " 'sky': 6,\n",
       " 'trees': 16,\n",
       " 'unknown': 31,\n",
       " 'vegetation': 56}"
      ]
     },
     "execution_count": 3,
     "metadata": {},
     "output_type": "execute_result"
    }
   ],
   "source": [
    "dict_1"
   ]
  },
  {
   "cell_type": "code",
   "execution_count": 4,
   "metadata": {},
   "outputs": [],
   "source": [
    "with open('/data/graphics/toyota-pytorch/CoSy/generation/car_labels_dict.p','rb') as F:\n",
    "    dict_2 = pickle.load(F)"
   ]
  },
  {
   "cell_type": "code",
   "execution_count": 11,
   "metadata": {},
   "outputs": [],
   "source": [
    "# dict_2"
   ]
  },
  {
   "cell_type": "code",
   "execution_count": 5,
   "metadata": {},
   "outputs": [],
   "source": [
    "category_to_class_number = {'building': 2,\n",
    " 'curb': 3,\n",
    " 'humans': 4,\n",
    " 'road': 5,\n",
    " 'sidewalk': 3,\n",
    " 'sky': 0,\n",
    " 'trees': 6,\n",
    " 'unknown': 0,\n",
    " 'vegetation': 6}"
   ]
  },
  {
   "cell_type": "code",
   "execution_count": 13,
   "metadata": {},
   "outputs": [],
   "source": [
    "car_names = [\"Fordtest1957_clean\",\"Evo_clean\",\"Camaro_clean\",\"gto67_clean\",\"subaru_impreza_wrx_sti_08_clean\",\"fiat500blandswap_clean\",\"Shelby_clean\",\"GolfMK4-Cycles-Jay-Hardy-2011_clean\",\"Audi_R8_clean\",\"HUMMER_clean\",\"Honda_Civic_Type_R_clean\",\"Volvo_clean\",\"audia6_clean\",\"mini_clean\",\"porsche_911_clean\",\"CVPI2005_clean\",\"Porsche993_GT2_clean\",\"suzuki_sx4_clean\",\"rapide_clean\",\"cooper_mini_clean\"]"
   ]
  },
  {
   "cell_type": "code",
   "execution_count": 25,
   "metadata": {},
   "outputs": [],
   "source": [
    "combined_orig_dict = {}\n",
    "value = 0\n",
    "for key,value in dict_1.items():\n",
    "    combined_orig_dict[key] = value\n",
    "\n",
    "start_val = 7\n",
    "val = start_val\n",
    "for key,value in dict_2.items():\n",
    "    car_ = key.split('/')[-1].split('.blend')[0]\n",
    "    if car_ in car_names:\n",
    "        combined_orig_dict[car_] = value\n",
    "        val += 1"
   ]
  },
  {
   "cell_type": "code",
   "execution_count": 26,
   "metadata": {},
   "outputs": [
    {
     "data": {
      "text/plain": [
       "{'building': 60,\n",
       " 'curb': 59,\n",
       " 'humans': 11,\n",
       " 'road': 58,\n",
       " 'sidewalk': 57,\n",
       " 'sky': 6,\n",
       " 'trees': 16,\n",
       " 'unknown': 31,\n",
       " 'vegetation': 56,\n",
       " 'Fordtest1957_clean': 255,\n",
       " 'Evo_clean': 254,\n",
       " 'Camaro_clean': 253,\n",
       " 'gto67_clean': 252,\n",
       " 'subaru_impreza_wrx_sti_08_clean': 251,\n",
       " 'fiat500blandswap_clean': 250,\n",
       " 'Shelby_clean': 249,\n",
       " 'GolfMK4-Cycles-Jay-Hardy-2011_clean': 248,\n",
       " 'Audi_R8_clean': 247,\n",
       " 'HUMMER_clean': 246,\n",
       " 'Honda_Civic_Type_R_clean': 245,\n",
       " 'Volvo_clean': 244,\n",
       " 'audia6_clean': 243,\n",
       " 'mini_clean': 242,\n",
       " 'porsche_911_clean': 241,\n",
       " 'CVPI2005_clean': 240,\n",
       " 'Porsche993_GT2_clean': 239,\n",
       " 'suzuki_sx4_clean': 238,\n",
       " 'rapide_clean': 237,\n",
       " 'cooper_mini_clean': 235}"
      ]
     },
     "execution_count": 26,
     "metadata": {},
     "output_type": "execute_result"
    }
   ],
   "source": [
    "combined_orig_dict"
   ]
  },
  {
   "cell_type": "code",
   "execution_count": 41,
   "metadata": {},
   "outputs": [],
   "source": [
    "combined_dict = {}\n",
    "value = 0\n",
    "for key,value in dict_1.items():\n",
    "    combined_dict[key] = category_to_class_number[key]\n",
    "\n",
    "start_val = 7\n",
    "val = start_val\n",
    "for key,value in dict_2.items():\n",
    "    car_ = key.split('/')[-1].split('.blend')[0]\n",
    "    if car_ in car_names:\n",
    "        combined_dict[car_] = val\n",
    "        val += 1"
   ]
  },
  {
   "cell_type": "code",
   "execution_count": 15,
   "metadata": {},
   "outputs": [],
   "source": [
    "combined_dict = {}\n",
    "# value = 0\n",
    "# for key,value in dict_1.items():\n",
    "#     combined_dict[key] = category_to_class_number[key]\n",
    "\n",
    "start_val = 0\n",
    "val = start_val\n",
    "for key,value in dict_2.items():\n",
    "    car_ = key.split('/')[-1].split('.blend')[0]\n",
    "    if car_ in car_names:\n",
    "        combined_dict[car_] = val\n",
    "        val += 1"
   ]
  },
  {
   "cell_type": "code",
   "execution_count": 16,
   "metadata": {},
   "outputs": [
    {
     "data": {
      "text/plain": [
       "{'Fordtest1957_clean': 0,\n",
       " 'Evo_clean': 1,\n",
       " 'Camaro_clean': 2,\n",
       " 'gto67_clean': 3,\n",
       " 'subaru_impreza_wrx_sti_08_clean': 4,\n",
       " 'fiat500blandswap_clean': 5,\n",
       " 'Shelby_clean': 6,\n",
       " 'GolfMK4-Cycles-Jay-Hardy-2011_clean': 7,\n",
       " 'Audi_R8_clean': 8,\n",
       " 'HUMMER_clean': 9,\n",
       " 'Honda_Civic_Type_R_clean': 10,\n",
       " 'Volvo_clean': 11,\n",
       " 'audia6_clean': 12,\n",
       " 'mini_clean': 13,\n",
       " 'porsche_911_clean': 14,\n",
       " 'CVPI2005_clean': 15,\n",
       " 'Porsche993_GT2_clean': 16,\n",
       " 'suzuki_sx4_clean': 17,\n",
       " 'rapide_clean': 18,\n",
       " 'cooper_mini_clean': 19}"
      ]
     },
     "execution_count": 16,
     "metadata": {},
     "output_type": "execute_result"
    }
   ],
   "source": [
    "combined_dict"
   ]
  },
  {
   "cell_type": "code",
   "execution_count": 17,
   "metadata": {},
   "outputs": [],
   "source": [
    "# combine"
   ]
  },
  {
   "cell_type": "code",
   "execution_count": 44,
   "metadata": {},
   "outputs": [],
   "source": [
    "combined_dict['DUMMY'] = 1"
   ]
  },
  {
   "cell_type": "code",
   "execution_count": 45,
   "metadata": {},
   "outputs": [
    {
     "data": {
      "text/plain": [
       "{'building': 2,\n",
       " 'curb': 3,\n",
       " 'humans': 4,\n",
       " 'road': 5,\n",
       " 'sidewalk': 3,\n",
       " 'sky': 0,\n",
       " 'trees': 6,\n",
       " 'unknown': 0,\n",
       " 'vegetation': 6,\n",
       " 'Fordtest1957_clean': 7,\n",
       " 'Evo_clean': 8,\n",
       " 'Camaro_clean': 9,\n",
       " 'gto67_clean': 10,\n",
       " 'subaru_impreza_wrx_sti_08_clean': 11,\n",
       " 'fiat500blandswap_clean': 12,\n",
       " 'Shelby_clean': 13,\n",
       " 'GolfMK4-Cycles-Jay-Hardy-2011_clean': 14,\n",
       " 'Audi_R8_clean': 15,\n",
       " 'HUMMER_clean': 16,\n",
       " 'Honda_Civic_Type_R_clean': 17,\n",
       " 'Volvo_clean': 18,\n",
       " 'audia6_clean': 19,\n",
       " 'mini_clean': 20,\n",
       " 'porsche_911_clean': 21,\n",
       " 'CVPI2005_clean': 22,\n",
       " 'Porsche993_GT2_clean': 23,\n",
       " 'suzuki_sx4_clean': 24,\n",
       " 'rapide_clean': 25,\n",
       " 'cooper_mini_clean': 26,\n",
       " 'DUMMY': 1}"
      ]
     },
     "execution_count": 45,
     "metadata": {},
     "output_type": "execute_result"
    }
   ],
   "source": [
    "combined_dict"
   ]
  },
  {
   "cell_type": "code",
   "execution_count": 40,
   "metadata": {},
   "outputs": [],
   "source": [
    "labelval_to_category = {'building': 60,\n",
    " 'DUMMY':1,\n",
    " 'curb': 59,\n",
    " 'humans': 11,\n",
    " 'road': 58,\n",
    " 'sidewalk': 57,\n",
    " 'sky': 6,\n",
    " 'trees': 16,\n",
    " 'unknown': 31,\n",
    " 'vegetation': 56,\n",
    " 'Fordtest1957_clean': 255,\n",
    " 'Evo_clean': 254,\n",
    " 'Camaro_clean': 253,\n",
    " 'gto67_clean': 252,\n",
    " 'subaru_impreza_wrx_sti_08_clean': 251,\n",
    " 'fiat500blandswap_clean': 250,\n",
    " 'Shelby_clean': 249,\n",
    " 'GolfMK4-Cycles-Jay-Hardy-2011_clean': 248,\n",
    " 'Audi_R8_clean': 247,\n",
    " 'HUMMER_clean': 246,\n",
    " 'Honda_Civic_Type_R_clean': 245,\n",
    " 'Volvo_clean': 244,\n",
    " 'audia6_clean': 243,\n",
    " 'mini_clean': 242,\n",
    " 'porsche_911_clean': 241,\n",
    " 'CVPI2005_clean': 240,\n",
    " 'Porsche993_GT2_clean': 239,\n",
    " 'suzuki_sx4_clean': 238,\n",
    " 'rapide_clean': 237,\n",
    " 'cooper_mini_clean': 235}"
   ]
  },
  {
   "cell_type": "code",
   "execution_count": 30,
   "metadata": {},
   "outputs": [
    {
     "data": {
      "text/plain": [
       "{'building': 2,\n",
       " 'curb': 3,\n",
       " 'humans': 4,\n",
       " 'road': 5,\n",
       " 'sidewalk': 3,\n",
       " 'sky': 0,\n",
       " 'trees': 6,\n",
       " 'unknown': 0,\n",
       " 'vegetation': 6,\n",
       " 'Fordtest1957_clean': 7,\n",
       " 'Evo_clean': 8,\n",
       " 'Camaro_clean': 9,\n",
       " 'gto67_clean': 10,\n",
       " 'subaru_impreza_wrx_sti_08_clean': 11,\n",
       " 'fiat500blandswap_clean': 12,\n",
       " 'Shelby_clean': 13,\n",
       " 'GolfMK4-Cycles-Jay-Hardy-2011_clean': 14,\n",
       " 'Audi_R8_clean': 15,\n",
       " 'HUMMER_clean': 16,\n",
       " 'Honda_Civic_Type_R_clean': 17,\n",
       " 'Volvo_clean': 18,\n",
       " 'audia6_clean': 19,\n",
       " 'mini_clean': 20,\n",
       " 'porsche_911_clean': 21,\n",
       " 'CVPI2005_clean': 22,\n",
       " 'Porsche993_GT2_clean': 23,\n",
       " 'suzuki_sx4_clean': 24,\n",
       " 'rapide_clean': 25,\n",
       " 'cooper_mini_clean': 26}"
      ]
     },
     "execution_count": 30,
     "metadata": {},
     "output_type": "execute_result"
    }
   ],
   "source": [
    "combined_dict"
   ]
  },
  {
   "cell_type": "code",
   "execution_count": 21,
   "metadata": {},
   "outputs": [],
   "source": [
    "combined_dict['bg']=20"
   ]
  },
  {
   "cell_type": "code",
   "execution_count": 22,
   "metadata": {},
   "outputs": [],
   "source": [
    "with open('category_to_class_number_per_car_synthetic_only_cars.p','wb') as F:\n",
    "    pickle.dump(combined_dict,F)"
   ]
  },
  {
   "cell_type": "code",
   "execution_count": 23,
   "metadata": {},
   "outputs": [
    {
     "data": {
      "text/plain": [
       "21"
      ]
     },
     "execution_count": 23,
     "metadata": {},
     "output_type": "execute_result"
    }
   ],
   "source": [
    "len(combined_dict.keys())"
   ]
  },
  {
   "cell_type": "code",
   "execution_count": 33,
   "metadata": {},
   "outputs": [],
   "source": [
    "#########"
   ]
  },
  {
   "cell_type": "code",
   "execution_count": 36,
   "metadata": {},
   "outputs": [],
   "source": [
    "labelval_to_category = {'building': 60,\n",
    " 'curb': 59,\n",
    " 'humans': 11,\n",
    " 'road': 58,\n",
    " 'sidewalk': 57,\n",
    " 'sky': 6,\n",
    " 'trees': 16,\n",
    " 'unknown': 31,\n",
    " 'vegetation': 56,\n",
    " 'Fordtest1957_clean': 255,\n",
    " 'Evo_clean': 254,\n",
    " 'Camaro_clean': 253,\n",
    " 'gto67_clean': 252,\n",
    " 'subaru_impreza_wrx_sti_08_clean': 251,\n",
    " 'fiat500blandswap_clean': 250,\n",
    " 'Shelby_clean': 249,\n",
    " 'GolfMK4-Cycles-Jay-Hardy-2011_clean': 248,\n",
    " 'Audi_R8_clean': 247,\n",
    " 'HUMMER_clean': 246,\n",
    " 'Honda_Civic_Type_R_clean': 245,\n",
    " 'Volvo_clean': 244,\n",
    " 'audia6_clean': 243,\n",
    " 'mini_clean': 242,\n",
    " 'porsche_911_clean': 241,\n",
    " 'CVPI2005_clean': 240,\n",
    " 'Porsche993_GT2_clean': 239,\n",
    " 'suzuki_sx4_clean': 238,\n",
    " 'rapide_clean': 237,\n",
    " 'cooper_mini_clean': 235}"
   ]
  },
  {
   "cell_type": "code",
   "execution_count": 37,
   "metadata": {},
   "outputs": [],
   "source": [
    "a = {}"
   ]
  },
  {
   "cell_type": "code",
   "execution_count": 38,
   "metadata": {},
   "outputs": [],
   "source": [
    "for key,value in labelval_to_category.items():\n",
    "    a[value] = key"
   ]
  },
  {
   "cell_type": "code",
   "execution_count": 39,
   "metadata": {},
   "outputs": [
    {
     "data": {
      "text/plain": [
       "{60: 'building',\n",
       " 59: 'curb',\n",
       " 11: 'humans',\n",
       " 58: 'road',\n",
       " 57: 'sidewalk',\n",
       " 6: 'sky',\n",
       " 16: 'trees',\n",
       " 31: 'unknown',\n",
       " 56: 'vegetation',\n",
       " 255: 'Fordtest1957_clean',\n",
       " 254: 'Evo_clean',\n",
       " 253: 'Camaro_clean',\n",
       " 252: 'gto67_clean',\n",
       " 251: 'subaru_impreza_wrx_sti_08_clean',\n",
       " 250: 'fiat500blandswap_clean',\n",
       " 249: 'Shelby_clean',\n",
       " 248: 'GolfMK4-Cycles-Jay-Hardy-2011_clean',\n",
       " 247: 'Audi_R8_clean',\n",
       " 246: 'HUMMER_clean',\n",
       " 245: 'Honda_Civic_Type_R_clean',\n",
       " 244: 'Volvo_clean',\n",
       " 243: 'audia6_clean',\n",
       " 242: 'mini_clean',\n",
       " 241: 'porsche_911_clean',\n",
       " 240: 'CVPI2005_clean',\n",
       " 239: 'Porsche993_GT2_clean',\n",
       " 238: 'suzuki_sx4_clean',\n",
       " 237: 'rapide_clean',\n",
       " 235: 'cooper_mini_clean'}"
      ]
     },
     "execution_count": 39,
     "metadata": {},
     "output_type": "execute_result"
    }
   ],
   "source": [
    "a"
   ]
  },
  {
   "cell_type": "code",
   "execution_count": 35,
   "metadata": {},
   "outputs": [],
   "source": [
    "category_to_class_number = {'building': 2,\n",
    " 'curb': 3,\n",
    " 'humans': 4,\n",
    " 'road': 5,\n",
    " 'sidewalk': 3,\n",
    " 'sky': 0,\n",
    " 'trees': 6,\n",
    " 'unknown': 0,\n",
    " 'vegetation': 6,\n",
    " 'Fordtest1957_clean': 7,\n",
    " 'Evo_clean': 8,\n",
    " 'Camaro_clean': 9,\n",
    " 'gto67_clean': 10,\n",
    " 'subaru_impreza_wrx_sti_08_clean': 11,\n",
    " 'fiat500blandswap_clean': 12,\n",
    " 'Shelby_clean': 13,\n",
    " 'GolfMK4-Cycles-Jay-Hardy-2011_clean': 14,\n",
    " 'Audi_R8_clean': 15,\n",
    " 'HUMMER_clean': 16,\n",
    " 'Honda_Civic_Type_R_clean': 17,\n",
    " 'Volvo_clean': 18,\n",
    " 'audia6_clean': 19,\n",
    " 'mini_clean': 20,\n",
    " 'porsche_911_clean': 21,\n",
    " 'CVPI2005_clean': 22,\n",
    " 'Porsche993_GT2_clean': 23,\n",
    " 'suzuki_sx4_clean': 24,\n",
    " 'rapide_clean': 25,\n",
    " 'cooper_mini_clean': 26}"
   ]
  },
  {
   "cell_type": "code",
   "execution_count": null,
   "metadata": {},
   "outputs": [],
   "source": []
  }
 ],
 "metadata": {
  "kernelspec": {
   "display_name": "test_new",
   "language": "python",
   "name": "test_new"
  },
  "language_info": {
   "codemirror_mode": {
    "name": "ipython",
    "version": 3
   },
   "file_extension": ".py",
   "mimetype": "text/x-python",
   "name": "python",
   "nbconvert_exporter": "python",
   "pygments_lexer": "ipython3",
   "version": "3.6.9"
  }
 },
 "nbformat": 4,
 "nbformat_minor": 2
}
